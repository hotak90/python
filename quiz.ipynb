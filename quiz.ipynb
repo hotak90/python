{
 "cells": [
  {
   "cell_type": "markdown",
   "metadata": {},
   "source": [
    "# import & load"
   ]
  },
  {
   "cell_type": "code",
   "execution_count": 1,
   "metadata": {},
   "outputs": [],
   "source": [
    "import numpy as np\n",
    "import pandas as pd\n",
    "import matplotlib.pyplot as plt\n",
    "\n",
    "%matplotlib inline\n",
    "%config inlineBackend.figure_format = 'retina'"
   ]
  },
  {
   "cell_type": "code",
   "execution_count": 38,
   "metadata": {},
   "outputs": [
    {
     "name": "stdout",
     "output_type": "stream",
     "text": [
      "<class 'pandas.core.frame.DataFrame'>\n",
      "RangeIndex: 17379 entries, 0 to 17378\n",
      "Data columns (total 15 columns):\n",
      "instant       17379 non-null int64\n",
      "dteday        17379 non-null object\n",
      "season        17379 non-null int64\n",
      "yr            17379 non-null int64\n",
      "mnth          17379 non-null int64\n",
      "hr            17379 non-null int64\n",
      "holiday       17379 non-null int64\n",
      "weekday       17379 non-null int64\n",
      "workingday    17379 non-null int64\n",
      "weathersit    17379 non-null int64\n",
      "temp          17379 non-null float64\n",
      "atemp         17379 non-null float64\n",
      "hum           17379 non-null float64\n",
      "windspeed     17379 non-null float64\n",
      "cnt           17379 non-null int64\n",
      "dtypes: float64(4), int64(10), object(1)\n",
      "memory usage: 2.0+ MB\n"
     ]
    }
   ],
   "source": [
    "data_path = 'https://raw.githubusercontent.com/RayleighKim/Example_datasets/master/Bike-Sharing-Dataset/hour.csv'\n",
    "rides = pd.read_csv(data_path)\n",
    "rides.drop(['casual','registered'], axis=1, inplace=True)\n",
    "rides.info()"
   ]
  },
  {
   "cell_type": "code",
   "execution_count": 7,
   "metadata": {},
   "outputs": [
    {
     "data": {
      "text/plain": [
       "<matplotlib.axes._subplots.AxesSubplot at 0x18a346dd710>"
      ]
     },
     "execution_count": 7,
     "metadata": {},
     "output_type": "execute_result"
    },
    {
     "data": {
      "image/png": "[encoded data removed]",
      "text/plain": [
       "<Figure size 432x288 with 1 Axes>"
      ]
     },
     "metadata": {
      "needs_background": "light"
     },
     "output_type": "display_data"
    }
   ],
   "source": [
    "rides[48:100].plot(x='dteday', y='cnt')"
   ]
  },
  {
   "cell_type": "markdown",
   "metadata": {},
   "source": [
    "## Q1. 출, 퇴근시간 컬럼을 만들어라\n",
    "\n",
    "* 조건\n",
    "  * 데이타를 살펴서 시간을 가리키는 컬럼을 찾음(hr)\n",
    "  * 7-9 시를 출근시간이라고 함\n",
    "  * 17-19시를 퇴근시간이라고 함\n",
    "  * ct 라는 이름의 컬럼을 만들어 출퇴근 시간대를 표시\n",
    "    * 출근시간은 1, 퇴근시간은 2, 나머지는 0"
   ]
  },
  {
   "cell_type": "code",
   "execution_count": 39,
   "metadata": {},
   "outputs": [],
   "source": [
    "rides['ct'] = 0\n",
    "rides.loc[rides['hr'].isin([7, 8, 9]), 'ct'] = 1\n",
    "rides.loc[rides['hr'].isin([17, 18, 19]), 'ct'] = 2"
   ]
  },
  {
   "cell_type": "code",
   "execution_count": 40,
   "metadata": {},
   "outputs": [
    {
     "data": {
      "text/html": [
       "<div>\n",
       "<style scoped>\n",
       "    .dataframe tbody tr th:only-of-type {\n",
       "        vertical-align: middle;\n",
       "    }\n",
       "\n",
       "    .dataframe tbody tr th {\n",
       "        vertical-align: top;\n",
       "    }\n",
       "\n",
       "    .dataframe thead th {\n",
       "        text-align: right;\n",
       "    }\n",
       "</style>\n",
       "<table border=\"1\" class=\"dataframe\">\n",
       "  <thead>\n",
       "    <tr style=\"text-align: right;\">\n",
       "      <th></th>\n",
       "      <th>instant</th>\n",
       "      <th>dteday</th>\n",
       "      <th>season</th>\n",
       "      <th>yr</th>\n",
       "      <th>mnth</th>\n",
       "      <th>hr</th>\n",
       "      <th>holiday</th>\n",
       "      <th>weekday</th>\n",
       "      <th>workingday</th>\n",
       "      <th>weathersit</th>\n",
       "      <th>temp</th>\n",
       "      <th>atemp</th>\n",
       "      <th>hum</th>\n",
       "      <th>windspeed</th>\n",
       "      <th>cnt</th>\n",
       "      <th>ct</th>\n",
       "    </tr>\n",
       "  </thead>\n",
       "  <tbody>\n",
       "    <tr>\n",
       "      <th>17374</th>\n",
       "      <td>17375</td>\n",
       "      <td>2012-12-31</td>\n",
       "      <td>1</td>\n",
       "      <td>1</td>\n",
       "      <td>12</td>\n",
       "      <td>19</td>\n",
       "      <td>0</td>\n",
       "      <td>1</td>\n",
       "      <td>1</td>\n",
       "      <td>2</td>\n",
       "      <td>0.26</td>\n",
       "      <td>0.2576</td>\n",
       "      <td>0.60</td>\n",
       "      <td>0.1642</td>\n",
       "      <td>119</td>\n",
       "      <td>2</td>\n",
       "    </tr>\n",
       "    <tr>\n",
       "      <th>17375</th>\n",
       "      <td>17376</td>\n",
       "      <td>2012-12-31</td>\n",
       "      <td>1</td>\n",
       "      <td>1</td>\n",
       "      <td>12</td>\n",
       "      <td>20</td>\n",
       "      <td>0</td>\n",
       "      <td>1</td>\n",
       "      <td>1</td>\n",
       "      <td>2</td>\n",
       "      <td>0.26</td>\n",
       "      <td>0.2576</td>\n",
       "      <td>0.60</td>\n",
       "      <td>0.1642</td>\n",
       "      <td>89</td>\n",
       "      <td>0</td>\n",
       "    </tr>\n",
       "    <tr>\n",
       "      <th>17376</th>\n",
       "      <td>17377</td>\n",
       "      <td>2012-12-31</td>\n",
       "      <td>1</td>\n",
       "      <td>1</td>\n",
       "      <td>12</td>\n",
       "      <td>21</td>\n",
       "      <td>0</td>\n",
       "      <td>1</td>\n",
       "      <td>1</td>\n",
       "      <td>1</td>\n",
       "      <td>0.26</td>\n",
       "      <td>0.2576</td>\n",
       "      <td>0.60</td>\n",
       "      <td>0.1642</td>\n",
       "      <td>90</td>\n",
       "      <td>0</td>\n",
       "    </tr>\n",
       "    <tr>\n",
       "      <th>17377</th>\n",
       "      <td>17378</td>\n",
       "      <td>2012-12-31</td>\n",
       "      <td>1</td>\n",
       "      <td>1</td>\n",
       "      <td>12</td>\n",
       "      <td>22</td>\n",
       "      <td>0</td>\n",
       "      <td>1</td>\n",
       "      <td>1</td>\n",
       "      <td>1</td>\n",
       "      <td>0.26</td>\n",
       "      <td>0.2727</td>\n",
       "      <td>0.56</td>\n",
       "      <td>0.1343</td>\n",
       "      <td>61</td>\n",
       "      <td>0</td>\n",
       "    </tr>\n",
       "    <tr>\n",
       "      <th>17378</th>\n",
       "      <td>17379</td>\n",
       "      <td>2012-12-31</td>\n",
       "      <td>1</td>\n",
       "      <td>1</td>\n",
       "      <td>12</td>\n",
       "      <td>23</td>\n",
       "      <td>0</td>\n",
       "      <td>1</td>\n",
       "      <td>1</td>\n",
       "      <td>1</td>\n",
       "      <td>0.26</td>\n",
       "      <td>0.2727</td>\n",
       "      <td>0.65</td>\n",
       "      <td>0.1343</td>\n",
       "      <td>49</td>\n",
       "      <td>0</td>\n",
       "    </tr>\n",
       "  </tbody>\n",
       "</table>\n",
       "</div>"
      ],
      "text/plain": [
       "       instant      dteday  season  yr  mnth  hr  holiday  weekday  \\\n",
       "17374    17375  2012-12-31       1   1    12  19        0        1   \n",
       "17375    17376  2012-12-31       1   1    12  20        0        1   \n",
       "17376    17377  2012-12-31       1   1    12  21        0        1   \n",
       "17377    17378  2012-12-31       1   1    12  22        0        1   \n",
       "17378    17379  2012-12-31       1   1    12  23        0        1   \n",
       "\n",
       "       workingday  weathersit  temp   atemp   hum  windspeed  cnt  ct  \n",
       "17374           1           2  0.26  0.2576  0.60     0.1642  119   2  \n",
       "17375           1           2  0.26  0.2576  0.60     0.1642   89   0  \n",
       "17376           1           1  0.26  0.2576  0.60     0.1642   90   0  \n",
       "17377           1           1  0.26  0.2727  0.56     0.1343   61   0  \n",
       "17378           1           1  0.26  0.2727  0.65     0.1343   49   0  "
      ]
     },
     "execution_count": 40,
     "metadata": {},
     "output_type": "execute_result"
    }
   ],
   "source": [
    "rides.tail()"
   ]
  },
  {
   "cell_type": "markdown",
   "metadata": {},
   "source": [
    "## Q2. Dummy Variables\n",
    "\n",
    "* Season, weathersit, mnth, hr, weekday 등의 category variable 들을 dummy로 만들어서 원래 데이타프레임에 붙여라"
   ]
  },
  {
   "cell_type": "code",
   "execution_count": 41,
   "metadata": {},
   "outputs": [],
   "source": [
    "cat_columns = ['season', 'weathersit', 'mnth', 'hr', 'weekday']"
   ]
  },
  {
   "cell_type": "code",
   "execution_count": 48,
   "metadata": {
    "scrolled": true
   },
   "outputs": [
    {
     "name": "stdout",
     "output_type": "stream",
     "text": [
      "<class 'pandas.core.frame.DataFrame'>\n",
      "RangeIndex: 17379 entries, 0 to 17378\n",
      "Data columns (total 57 columns):\n",
      "instant         17379 non-null int64\n",
      "dteday          17379 non-null object\n",
      "yr              17379 non-null int64\n",
      "holiday         17379 non-null int64\n",
      "workingday      17379 non-null int64\n",
      "temp            17379 non-null float64\n",
      "atemp           17379 non-null float64\n",
      "hum             17379 non-null float64\n",
      "windspeed       17379 non-null float64\n",
      "cnt             17379 non-null int64\n",
      "ct              17379 non-null int64\n",
      "season_2        17379 non-null uint8\n",
      "season_3        17379 non-null uint8\n",
      "season_4        17379 non-null uint8\n",
      "weathersit_2    17379 non-null uint8\n",
      "weathersit_3    17379 non-null uint8\n",
      "weathersit_4    17379 non-null uint8\n",
      "mnth_2          17379 non-null uint8\n",
      "mnth_3          17379 non-null uint8\n",
      "mnth_4          17379 non-null uint8\n",
      "mnth_5          17379 non-null uint8\n",
      "mnth_6          17379 non-null uint8\n",
      "mnth_7          17379 non-null uint8\n",
      "mnth_8          17379 non-null uint8\n",
      "mnth_9          17379 non-null uint8\n",
      "mnth_10         17379 non-null uint8\n",
      "mnth_11         17379 non-null uint8\n",
      "mnth_12         17379 non-null uint8\n",
      "hr_1            17379 non-null uint8\n",
      "hr_2            17379 non-null uint8\n",
      "hr_3            17379 non-null uint8\n",
      "hr_4            17379 non-null uint8\n",
      "hr_5            17379 non-null uint8\n",
      "hr_6            17379 non-null uint8\n",
      "hr_7            17379 non-null uint8\n",
      "hr_8            17379 non-null uint8\n",
      "hr_9            17379 non-null uint8\n",
      "hr_10           17379 non-null uint8\n",
      "hr_11           17379 non-null uint8\n",
      "hr_12           17379 non-null uint8\n",
      "hr_13           17379 non-null uint8\n",
      "hr_14           17379 non-null uint8\n",
      "hr_15           17379 non-null uint8\n",
      "hr_16           17379 non-null uint8\n",
      "hr_17           17379 non-null uint8\n",
      "hr_18           17379 non-null uint8\n",
      "hr_19           17379 non-null uint8\n",
      "hr_20           17379 non-null uint8\n",
      "hr_21           17379 non-null uint8\n",
      "hr_22           17379 non-null uint8\n",
      "hr_23           17379 non-null uint8\n",
      "weekday_1       17379 non-null uint8\n",
      "weekday_2       17379 non-null uint8\n",
      "weekday_3       17379 non-null uint8\n",
      "weekday_4       17379 non-null uint8\n",
      "weekday_5       17379 non-null uint8\n",
      "weekday_6       17379 non-null uint8\n",
      "dtypes: float64(4), int64(6), object(1), uint8(46)\n",
      "memory usage: 2.2+ MB\n"
     ]
    }
   ],
   "source": [
    "new_rides = pd.concat([rides, pd.get_dummies(rides[cat_columns], columns=cat_columns, drop_first=True)], axis=1)\n",
    "new_rides.drop(cat_columns, axis=1, inplace=True)\n",
    "new_rides.info()"
   ]
  },
  {
   "cell_type": "code",
   "execution_count": 49,
   "metadata": {},
   "outputs": [],
   "source": [
    "### drop 시킬 field 들\n",
    "fields_to_drop = ['instant','dteday','atemp','workingday']\n",
    "new_rides.drop(fields_to_drop, axis=1, inplace=True)"
   ]
  },
  {
   "cell_type": "code",
   "execution_count": 50,
   "metadata": {
    "scrolled": true
   },
   "outputs": [
    {
     "name": "stdout",
     "output_type": "stream",
     "text": [
      "<class 'pandas.core.frame.DataFrame'>\n",
      "RangeIndex: 17379 entries, 0 to 17378\n",
      "Data columns (total 53 columns):\n",
      "yr              17379 non-null int64\n",
      "holiday         17379 non-null int64\n",
      "temp            17379 non-null float64\n",
      "hum             17379 non-null float64\n",
      "windspeed       17379 non-null float64\n",
      "cnt             17379 non-null int64\n",
      "ct              17379 non-null int64\n",
      "season_2        17379 non-null uint8\n",
      "season_3        17379 non-null uint8\n",
      "season_4        17379 non-null uint8\n",
      "weathersit_2    17379 non-null uint8\n",
      "weathersit_3    17379 non-null uint8\n",
      "weathersit_4    17379 non-null uint8\n",
      "mnth_2          17379 non-null uint8\n",
      "mnth_3          17379 non-null uint8\n",
      "mnth_4          17379 non-null uint8\n",
      "mnth_5          17379 non-null uint8\n",
      "mnth_6          17379 non-null uint8\n",
      "mnth_7          17379 non-null uint8\n",
      "mnth_8          17379 non-null uint8\n",
      "mnth_9          17379 non-null uint8\n",
      "mnth_10         17379 non-null uint8\n",
      "mnth_11         17379 non-null uint8\n",
      "mnth_12         17379 non-null uint8\n",
      "hr_1            17379 non-null uint8\n",
      "hr_2            17379 non-null uint8\n",
      "hr_3            17379 non-null uint8\n",
      "hr_4            17379 non-null uint8\n",
      "hr_5            17379 non-null uint8\n",
      "hr_6            17379 non-null uint8\n",
      "hr_7            17379 non-null uint8\n",
      "hr_8            17379 non-null uint8\n",
      "hr_9            17379 non-null uint8\n",
      "hr_10           17379 non-null uint8\n",
      "hr_11           17379 non-null uint8\n",
      "hr_12           17379 non-null uint8\n",
      "hr_13           17379 non-null uint8\n",
      "hr_14           17379 non-null uint8\n",
      "hr_15           17379 non-null uint8\n",
      "hr_16           17379 non-null uint8\n",
      "hr_17           17379 non-null uint8\n",
      "hr_18           17379 non-null uint8\n",
      "hr_19           17379 non-null uint8\n",
      "hr_20           17379 non-null uint8\n",
      "hr_21           17379 non-null uint8\n",
      "hr_22           17379 non-null uint8\n",
      "hr_23           17379 non-null uint8\n",
      "weekday_1       17379 non-null uint8\n",
      "weekday_2       17379 non-null uint8\n",
      "weekday_3       17379 non-null uint8\n",
      "weekday_4       17379 non-null uint8\n",
      "weekday_5       17379 non-null uint8\n",
      "weekday_6       17379 non-null uint8\n",
      "dtypes: float64(3), int64(4), uint8(46)\n",
      "memory usage: 1.7 MB\n"
     ]
    }
   ],
   "source": [
    "new_rides.info()"
   ]
  },
  {
   "cell_type": "markdown",
   "metadata": {},
   "source": [
    "## Q3. Scaling"
   ]
  },
  {
   "cell_type": "code",
   "execution_count": 51,
   "metadata": {},
   "outputs": [],
   "source": [
    "scaled_col = ['temp','hum','windspeed']\n",
    "for col in scaled_col:\n",
    "    mean, std = new_rides[col].mean(), new_rides[col].std()\n",
    "    new_rides[col] = (new_rides[col] - mean) / std"
   ]
  },
  {
   "cell_type": "code",
   "execution_count": 53,
   "metadata": {},
   "outputs": [
    {
     "data": {
      "text/html": [
       "<div>\n",
       "<style scoped>\n",
       "    .dataframe tbody tr th:only-of-type {\n",
       "        vertical-align: middle;\n",
       "    }\n",
       "\n",
       "    .dataframe tbody tr th {\n",
       "        vertical-align: top;\n",
       "    }\n",
       "\n",
       "    .dataframe thead th {\n",
       "        text-align: right;\n",
       "    }\n",
       "</style>\n",
       "<table border=\"1\" class=\"dataframe\">\n",
       "  <thead>\n",
       "    <tr style=\"text-align: right;\">\n",
       "      <th></th>\n",
       "      <th>yr</th>\n",
       "      <th>holiday</th>\n",
       "      <th>temp</th>\n",
       "      <th>hum</th>\n",
       "      <th>windspeed</th>\n",
       "      <th>cnt</th>\n",
       "      <th>ct</th>\n",
       "      <th>season_2</th>\n",
       "      <th>season_3</th>\n",
       "      <th>season_4</th>\n",
       "      <th>...</th>\n",
       "      <th>hr_20</th>\n",
       "      <th>hr_21</th>\n",
       "      <th>hr_22</th>\n",
       "      <th>hr_23</th>\n",
       "      <th>weekday_1</th>\n",
       "      <th>weekday_2</th>\n",
       "      <th>weekday_3</th>\n",
       "      <th>weekday_4</th>\n",
       "      <th>weekday_5</th>\n",
       "      <th>weekday_6</th>\n",
       "    </tr>\n",
       "  </thead>\n",
       "  <tbody>\n",
       "    <tr>\n",
       "      <th>0</th>\n",
       "      <td>0</td>\n",
       "      <td>0</td>\n",
       "      <td>-1.334609</td>\n",
       "      <td>0.947345</td>\n",
       "      <td>-1.553844</td>\n",
       "      <td>16</td>\n",
       "      <td>0</td>\n",
       "      <td>0</td>\n",
       "      <td>0</td>\n",
       "      <td>0</td>\n",
       "      <td>...</td>\n",
       "      <td>0</td>\n",
       "      <td>0</td>\n",
       "      <td>0</td>\n",
       "      <td>0</td>\n",
       "      <td>0</td>\n",
       "      <td>0</td>\n",
       "      <td>0</td>\n",
       "      <td>0</td>\n",
       "      <td>0</td>\n",
       "      <td>1</td>\n",
       "    </tr>\n",
       "    <tr>\n",
       "      <th>1</th>\n",
       "      <td>0</td>\n",
       "      <td>0</td>\n",
       "      <td>-1.438475</td>\n",
       "      <td>0.895513</td>\n",
       "      <td>-1.553844</td>\n",
       "      <td>40</td>\n",
       "      <td>0</td>\n",
       "      <td>0</td>\n",
       "      <td>0</td>\n",
       "      <td>0</td>\n",
       "      <td>...</td>\n",
       "      <td>0</td>\n",
       "      <td>0</td>\n",
       "      <td>0</td>\n",
       "      <td>0</td>\n",
       "      <td>0</td>\n",
       "      <td>0</td>\n",
       "      <td>0</td>\n",
       "      <td>0</td>\n",
       "      <td>0</td>\n",
       "      <td>1</td>\n",
       "    </tr>\n",
       "    <tr>\n",
       "      <th>2</th>\n",
       "      <td>0</td>\n",
       "      <td>0</td>\n",
       "      <td>-1.438475</td>\n",
       "      <td>0.895513</td>\n",
       "      <td>-1.553844</td>\n",
       "      <td>32</td>\n",
       "      <td>0</td>\n",
       "      <td>0</td>\n",
       "      <td>0</td>\n",
       "      <td>0</td>\n",
       "      <td>...</td>\n",
       "      <td>0</td>\n",
       "      <td>0</td>\n",
       "      <td>0</td>\n",
       "      <td>0</td>\n",
       "      <td>0</td>\n",
       "      <td>0</td>\n",
       "      <td>0</td>\n",
       "      <td>0</td>\n",
       "      <td>0</td>\n",
       "      <td>1</td>\n",
       "    </tr>\n",
       "    <tr>\n",
       "      <th>3</th>\n",
       "      <td>0</td>\n",
       "      <td>0</td>\n",
       "      <td>-1.334609</td>\n",
       "      <td>0.636351</td>\n",
       "      <td>-1.553844</td>\n",
       "      <td>13</td>\n",
       "      <td>0</td>\n",
       "      <td>0</td>\n",
       "      <td>0</td>\n",
       "      <td>0</td>\n",
       "      <td>...</td>\n",
       "      <td>0</td>\n",
       "      <td>0</td>\n",
       "      <td>0</td>\n",
       "      <td>0</td>\n",
       "      <td>0</td>\n",
       "      <td>0</td>\n",
       "      <td>0</td>\n",
       "      <td>0</td>\n",
       "      <td>0</td>\n",
       "      <td>1</td>\n",
       "    </tr>\n",
       "    <tr>\n",
       "      <th>4</th>\n",
       "      <td>0</td>\n",
       "      <td>0</td>\n",
       "      <td>-1.334609</td>\n",
       "      <td>0.636351</td>\n",
       "      <td>-1.553844</td>\n",
       "      <td>1</td>\n",
       "      <td>0</td>\n",
       "      <td>0</td>\n",
       "      <td>0</td>\n",
       "      <td>0</td>\n",
       "      <td>...</td>\n",
       "      <td>0</td>\n",
       "      <td>0</td>\n",
       "      <td>0</td>\n",
       "      <td>0</td>\n",
       "      <td>0</td>\n",
       "      <td>0</td>\n",
       "      <td>0</td>\n",
       "      <td>0</td>\n",
       "      <td>0</td>\n",
       "      <td>1</td>\n",
       "    </tr>\n",
       "  </tbody>\n",
       "</table>\n",
       "<p>5 rows × 53 columns</p>\n",
       "</div>"
      ],
      "text/plain": [
       "   yr  holiday      temp       hum  windspeed  cnt  ct  season_2  season_3  \\\n",
       "0   0        0 -1.334609  0.947345  -1.553844   16   0         0         0   \n",
       "1   0        0 -1.438475  0.895513  -1.553844   40   0         0         0   \n",
       "2   0        0 -1.438475  0.895513  -1.553844   32   0         0         0   \n",
       "3   0        0 -1.334609  0.636351  -1.553844   13   0         0         0   \n",
       "4   0        0 -1.334609  0.636351  -1.553844    1   0         0         0   \n",
       "\n",
       "   season_4  ...  hr_20  hr_21  hr_22  hr_23  weekday_1  weekday_2  weekday_3  \\\n",
       "0         0  ...      0      0      0      0          0          0          0   \n",
       "1         0  ...      0      0      0      0          0          0          0   \n",
       "2         0  ...      0      0      0      0          0          0          0   \n",
       "3         0  ...      0      0      0      0          0          0          0   \n",
       "4         0  ...      0      0      0      0          0          0          0   \n",
       "\n",
       "   weekday_4  weekday_5  weekday_6  \n",
       "0          0          0          1  \n",
       "1          0          0          1  \n",
       "2          0          0          1  \n",
       "3          0          0          1  \n",
       "4          0          0          1  \n",
       "\n",
       "[5 rows x 53 columns]"
      ]
     },
     "execution_count": 53,
     "metadata": {},
     "output_type": "execute_result"
    }
   ],
   "source": [
    "new_rides.head()"
   ]
  },
  {
   "cell_type": "code",
   "execution_count": 58,
   "metadata": {},
   "outputs": [],
   "source": [
    "# splitting\n",
    "\n",
    "test_data, val_data, train_data = new_rides[-21*24:], new_rides[-81*24:-21*24], new_rides[:-81*24]\n",
    "target_fields = ['cnt']\n",
    "test_features, test_targets = test_data.drop(target_fields, axis=1), test_data[target_fields]\n",
    "val_features, val_targets = val_data.drop(target_fields, axis=1), val_data[target_fields]\n",
    "train_features, train_targets = train_data.drop(target_fields, axis=1), train_data[target_fields]"
   ]
  },
  {
   "cell_type": "markdown",
   "metadata": {},
   "source": [
    "## Q4 SLR\n",
    "\n",
    "* slr 에 linear regression 을 선언하고 학습\n",
    "* 에측값 저장. train_pred, val_pred, test_pred"
   ]
  },
  {
   "cell_type": "code",
   "execution_count": 59,
   "metadata": {},
   "outputs": [],
   "source": [
    "from sklearn.linear_model import LinearRegression"
   ]
  },
  {
   "cell_type": "code",
   "execution_count": 60,
   "metadata": {},
   "outputs": [
    {
     "data": {
      "text/plain": [
       "LinearRegression(copy_X=True, fit_intercept=True, n_jobs=None, normalize=False)"
      ]
     },
     "execution_count": 60,
     "metadata": {},
     "output_type": "execute_result"
    }
   ],
   "source": [
    "slr = LinearRegression()\n",
    "\n",
    "slr.fit(train_features, train_targets)"
   ]
  },
  {
   "cell_type": "code",
   "execution_count": 61,
   "metadata": {},
   "outputs": [],
   "source": [
    "train_pred = slr.predict(train_features)\n",
    "val_pred = slr.predict(val_features)\n",
    "test_pred = slr.predict(test_features)"
   ]
  },
  {
   "cell_type": "markdown",
   "metadata": {},
   "source": [
    "## Q5 val_targets 와 val_pred 의 RMSE를 구하라"
   ]
  },
  {
   "cell_type": "code",
   "execution_count": 63,
   "metadata": {},
   "outputs": [
    {
     "name": "stdout",
     "output_type": "stream",
     "text": [
      "123.0\n"
     ]
    }
   ],
   "source": [
    "from sklearn.metrics import mean_squared_error\n",
    "\n",
    "rmse = np.sqrt(mean_squared_error(val_targets, val_pred))\n",
    "print(np.trunc(rmse))"
   ]
  },
  {
   "cell_type": "markdown",
   "metadata": {},
   "source": [
    "## Q6 val_targets 와 val_pred 의 출근 시간대의 RMSE를 구하라"
   ]
  },
  {
   "cell_type": "code",
   "execution_count": 91,
   "metadata": {},
   "outputs": [
    {
     "name": "stdout",
     "output_type": "stream",
     "text": [
      "192.0\n"
     ]
    }
   ],
   "source": [
    "_tmp = val_features.reset_index(drop=True)\n",
    "idx = _tmp[_tmp.ct == 1].index.to_list()\n",
    "\n",
    "val_features2 = val_features.iloc[idx]\n",
    "val_targets2 = val_targets.reset_index(drop=True).iloc[idx]\n",
    "\n",
    "val_pred2 = slr.predict(val_features2)\n",
    "\n",
    "rmse = np.sqrt(mean_squared_error(val_targets2, val_pred2))\n",
    "print(np.trunc(rmse))\n"
   ]
  },
  {
   "cell_type": "markdown",
   "metadata": {},
   "source": [
    "## Q7 출근시간용 Linear Regression"
   ]
  },
  {
   "cell_type": "code",
   "execution_count": 92,
   "metadata": {},
   "outputs": [],
   "source": [
    "clr = LinearRegression()"
   ]
  },
  {
   "cell_type": "code",
   "execution_count": 94,
   "metadata": {},
   "outputs": [
    {
     "data": {
      "text/plain": [
       "((1939, 52), (1939,), (179, 52), (179,))"
      ]
     },
     "execution_count": 94,
     "metadata": {},
     "output_type": "execute_result"
    }
   ],
   "source": [
    "_tmp = train_data[train_data.ct == 1]; _tmp2 = val_data[val_data.ct == 1]\n",
    "\n",
    "train_X, train_Y = _tmp.drop(['cnt'], axis=1), _tmp['cnt']\n",
    "val_X, val_Y  = _tmp2.drop(['cnt'], axis=1), _tmp2['cnt']\n",
    "\n",
    "train_X.shape, train_Y.shape, val_X.shape, val_Y.shape\n"
   ]
  },
  {
   "cell_type": "code",
   "execution_count": 95,
   "metadata": {},
   "outputs": [
    {
     "data": {
      "text/plain": [
       "LinearRegression(copy_X=True, fit_intercept=True, n_jobs=None, normalize=False)"
      ]
     },
     "execution_count": 95,
     "metadata": {},
     "output_type": "execute_result"
    }
   ],
   "source": [
    "clr.fit(train_X, train_Y)"
   ]
  },
  {
   "cell_type": "code",
   "execution_count": 96,
   "metadata": {},
   "outputs": [
    {
     "name": "stdout",
     "output_type": "stream",
     "text": [
      "133.0\n"
     ]
    }
   ],
   "source": [
    "val_pred = clr.predict(val_X)\n",
    "rmse = np.sqrt(mean_squared_error(val_Y, val_pred))\n",
    "print(np.trunc(rmse))"
   ]
  },
  {
   "cell_type": "code",
   "execution_count": 97,
   "metadata": {},
   "outputs": [
    {
     "name": "stdout",
     "output_type": "stream",
     "text": [
      "115.0\n"
     ]
    }
   ],
   "source": [
    "from sklearn.ensemble import GradientBoostingRegressor\n",
    "\n",
    "gbr = GradientBoostingRegressor()\n",
    "gbr.fit(train_X, train_Y)\n",
    "\n",
    "val_pred = gbr.predict(val_X)\n",
    "rmse = np.sqrt(mean_squared_error(val_Y, val_pred))\n",
    "print(np.trunc(rmse))"
   ]
  },
  {
   "cell_type": "code",
   "execution_count": null,
   "metadata": {},
   "outputs": [],
   "source": []
  }
 ],
 "metadata": {
  "kernelspec": {
   "display_name": "Python 3",
   "language": "python",
   "name": "python3"
  },
  "language_info": {
   "codemirror_mode": {
    "name": "ipython",
    "version": 3
   },
   "file_extension": ".py",
   "mimetype": "text/x-python",
   "name": "python",
   "nbconvert_exporter": "python",
   "pygments_lexer": "ipython3",
   "version": "3.7.3"
  },
  "toc": {
   "base_numbering": 1,
   "nav_menu": {},
   "number_sections": true,
   "sideBar": true,
   "skip_h1_title": false,
   "title_cell": "Table of Contents",
   "title_sidebar": "Contents",
   "toc_cell": false,
   "toc_position": {},
   "toc_section_display": true,
   "toc_window_display": false
  },
  "varInspector": {
   "cols": {
    "lenName": 16,
    "lenType": 16,
    "lenVar": 40
   },
   "kernels_config": {
    "python": {
     "delete_cmd_postfix": "",
     "delete_cmd_prefix": "del ",
     "library": "var_list.py",
     "varRefreshCmd": "print(var_dic_list())"
    },
    "r": {
     "delete_cmd_postfix": ") ",
     "delete_cmd_prefix": "rm(",
     "library": "var_list.r",
     "varRefreshCmd": "cat(var_dic_list()) "
    }
   },
   "types_to_exclude": [
    "module",
    "function",
    "builtin_function_or_method",
    "instance",
    "_Feature"
   ],
   "window_display": false
  }
 },
 "nbformat": 4,
 "nbformat_minor": 2
}
