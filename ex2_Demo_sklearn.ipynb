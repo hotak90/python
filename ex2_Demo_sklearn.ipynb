{
  "nbformat": 4,
  "nbformat_minor": 0,
  "metadata": {
    "colab": {
      "name": "Demo_sklearn.ipynb",
      "provenance": [],
      "collapsed_sections": [
        "pj9Xtk6HWniI"
      ],
      "toc_visible": true
    },
    "kernelspec": {
      "name": "python3",
      "display_name": "Python 3"
    }
  },
  "cells": [
    {
      "cell_type": "markdown",
      "metadata": {
        "id": "hDLFZpL6WHWH",
        "colab_type": "text"
      },
      "source": [
        "# Scikit Learn Coding Style!\n",
        "\n",
        "Editor : Rayleigh Kim <br>\n",
        "email : biz.rayleigh@gmail.com\n",
        "\n",
        "**정말로 싸이킷런 코딩스타일을 익히면 일단 할 수 있다!**\n",
        "\n",
        "**실습 목표**\n",
        "1. Scikit-Learn의 코딩스타일을 익힌다."
      ]
    },
    {
      "cell_type": "markdown",
      "metadata": {
        "id": "pj9Xtk6HWniI",
        "colab_type": "text"
      },
      "source": [
        "## Coding Style of Scikit-Learn\n",
        "\n",
        "1. 사용할 것 들만 미리 import해온다!\n",
        "2. 나 이 모델 쓸꺼야 선언한다!\n",
        "3. 모델.fit(X,y)로 학습시킨다.\n",
        "4. 모델.predict(X)로 예측값을 만든다!\n",
        "\n",
        "아래의 코드들을 이용해 구경해보자!"
      ]
    },
    {
      "cell_type": "markdown",
      "metadata": {
        "id": "wVeEBY53Wnqu",
        "colab_type": "text"
      },
      "source": [
        "# 괜히 모르는 데이터 하나 가져와보기"
      ]
    },
    {
      "cell_type": "code",
      "metadata": {
        "id": "TVDL6W-OHmN1",
        "colab_type": "code",
        "colab": {}
      },
      "source": [
        "import pandas as pd\n",
        "import numpy as np\n",
        "from sklearn.datasets import load_boston"
      ],
      "execution_count": 0,
      "outputs": []
    },
    {
      "cell_type": "code",
      "metadata": {
        "id": "A8JSURTlI6xV",
        "colab_type": "code",
        "colab": {}
      },
      "source": [
        "boston = load_boston()"
      ],
      "execution_count": 0,
      "outputs": []
    },
    {
      "cell_type": "code",
      "metadata": {
        "id": "RpGVlp2JJCbe",
        "colab_type": "code",
        "colab": {}
      },
      "source": [
        "print(boston.DESCR)"
      ],
      "execution_count": 0,
      "outputs": []
    },
    {
      "cell_type": "code",
      "metadata": {
        "id": "CrSHaCHjoR_b",
        "colab_type": "code",
        "colab": {}
      },
      "source": [
        "x = boston.data\n",
        "y = boston.target\n",
        "\n",
        "x.shape, y.shape"
      ],
      "execution_count": 0,
      "outputs": []
    },
    {
      "cell_type": "markdown",
      "metadata": {
        "id": "wewXJpF3KMTt",
        "colab_type": "text"
      },
      "source": [
        "# 코딩스타일 대로 해보기"
      ]
    },
    {
      "cell_type": "code",
      "metadata": {
        "id": "dPoP2DIdKObw",
        "colab_type": "code",
        "colab": {}
      },
      "source": [
        "# 1. 사용할 것 미리 import\n",
        "from sklearn.linear_model import LinearRegression\n",
        "\n",
        "# 2. 선언\n",
        "model = LinearRegression()\n",
        "\n",
        "\n",
        "# 3. .fit()\n",
        "model.fit(x,y)\n",
        "\n",
        "\n",
        "# 4. .predict()\n",
        "model.predict(x[-10:])"
      ],
      "execution_count": 0,
      "outputs": []
    },
    {
      "cell_type": "code",
      "metadata": {
        "id": "fqzxevuVK6Xq",
        "colab_type": "code",
        "colab": {}
      },
      "source": [
        ""
      ],
      "execution_count": 0,
      "outputs": []
    },
    {
      "cell_type": "code",
      "metadata": {
        "id": "nEPMhzWkPXku",
        "colab_type": "code",
        "colab": {}
      },
      "source": [
        ""
      ],
      "execution_count": 0,
      "outputs": []
    }
  ]
}