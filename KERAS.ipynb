{
 "cells": [
  {
   "cell_type": "markdown",
   "metadata": {},
   "source": [
    "## 선형회귀(KERAS)"
   ]
  },
  {
   "cell_type": "code",
   "execution_count": null,
   "metadata": {},
   "outputs": [],
   "source": [
    "import numpy as np\n",
    "import matplotlib.pyplot as plt\n",
    "from keras.models import Sequential\n",
    "from keras.layers import Dense\n",
    "\n",
    "# Data\n",
    "x_data = np.array([[1], [2], [3]])\n",
    "y_data = np.array([[1], [2], [3]])\n",
    "# Model, Cost, Train\n",
    "model = Sequential()\n",
    "model.add(Dense(1, input_dim=1))\n",
    "model.compile(loss='mse', optimizer='adam')\n",
    "model.fit(x_data, y_data, epochs=1000, verbose=0)\n",
    "model.summary()\n",
    "# Inference\n",
    "print(model.get_weights())\n",
    "print(model.predict(np.array([4])))\n",
    "# Plot\n",
    "plt.scatter(x_data, y_data)\n",
    "plt.plot(x_data, y_data)\n",
    "plt.grid(True)\n",
    "plt.show()"
   ]
  },
  {
   "cell_type": "markdown",
   "metadata": {},
   "source": [
    "## 이진분류(KERAS)"
   ]
  },
  {
   "cell_type": "code",
   "execution_count": null,
   "metadata": {},
   "outputs": [],
   "source": [
    "import numpy as np\n",
    "from keras.models import Sequential\n",
    "from keras.layers import Dense\n",
    "\n",
    "# Data\n",
    "x_data = np.array([[1,2], [2,3], [3,1], [4,3], [5,3], [6,2]])\n",
    "y_data = np.array([[0], [0], [0], [1], [1], [1]])\n",
    "# Model, Cost, Train\n",
    "model = Sequential()\n",
    "model.add(Dense(1, activation='sigmoid'))\n",
    "model.compile(loss='binary_crossentropy', optimizer='sgd', metrics=['accuracy'])\n",
    "model.fit(x_data, y_data, epochs=10000, verbose=1)\n",
    "model.summary()\n",
    "# Inference\n",
    "print(model.get_weights())\n",
    "print(model.predict(x_data))"
   ]
  },
  {
   "cell_type": "markdown",
   "metadata": {},
   "source": [
    "## 이진분류-당뇨(KERAS)"
   ]
  },
  {
   "cell_type": "code",
   "execution_count": null,
   "metadata": {},
   "outputs": [],
   "source": [
    "import numpy as np\n",
    "from keras.models import Sequential\n",
    "from keras.layers import Dense\n",
    "\n",
    "# Data\n",
    "xy = np.loadtxt('data-diabetes.csv', delimiter=',', dtype=np.float32)\n",
    "x_data = xy[:, 0:-1]\n",
    "y_data = xy[:, [-1]]\n",
    "\n",
    "# Model, Cost, Train\n",
    "model = Sequential()\n",
    "model.add(Dense(1, activation='sigmoid'))\n",
    "model.compile(loss='binary_crossentropy', optimizer='sgd', metrics=['accuracy'])\n",
    "model.fit(x_data, y_data, epochs=1000, verbose=1)\n",
    "model.summary()"
   ]
  },
  {
   "cell_type": "markdown",
   "metadata": {},
   "source": [
    "## SOFTMAX 다중분류(KERAS)"
   ]
  },
  {
   "cell_type": "code",
   "execution_count": null,
   "metadata": {},
   "outputs": [],
   "source": [
    "import numpy as np\n",
    "from keras.models import Sequential\n",
    "from keras.layers import Dense\n",
    "\n",
    "# Data\n",
    "x_data = np.array([[1,2,1,1], [2,1,3,2], [3,1,3,4], [4,1,5,5], [1,7,5,5], [1,2,5,6], [1,6,6,6], [1,7,7,7]])\n",
    "y_data = np.array([[0,0,1], [0,0,1], [0,0,1], [0,1,0], [0,1,0], [0,1,0], [1,0,0], [1,0,0]])\n",
    "\n",
    "# Model, Cost, Train\n",
    "model = Sequential()\n",
    "model.add(Dense(3, activation='softmax'))\n",
    "model.compile(loss='categorical_crossentropy', optimizer='sgd', metrics=['accuracy'])\n",
    "model.fit(x_data, y_data, epochs=10000, verbose=1)\n",
    "model.summary()\n",
    "# Inference\n",
    "y_predict = model.predict(np.array([[1,11,7,9]]))\n",
    "print(y_predict)\n",
    "print(\"argmax: \", np.argmax(y_predict))"
   ]
  },
  {
   "cell_type": "markdown",
   "metadata": {},
   "source": [
    "## CNN-MNIST(KERAS)"
   ]
  },
  {
   "cell_type": "code",
   "execution_count": null,
   "metadata": {},
   "outputs": [],
   "source": [
    "from keras.utils import np_utils\n",
    "from keras.datasets import mnist\n",
    "from keras.models import Sequential\n",
    "from keras.layers import Conv2D, pooling, Flatten, Dense\n",
    "# MNIST data\n",
    "(train_images, train_labels), (test_images, test_labels) = mnist.load_data()\n",
    "print(train_images.shape, train_labels.shape, test_images.shape, test_labels.shape)\n",
    "train_images = train_images.reshape(train_images.shape[0], 28,28,1).astype('float32')/255.0\n",
    "test_images = test_images.reshape(test_images.shape[0], 28,28,1).astype('float32')/255.0\n",
    "train_labels = np_utils.to_categorical(train_labels) # One-Hot Encoding\n",
    "test_labels = np_utils.to_categorical(test_labels) # One-Hot Encoding\n",
    "# Model\n",
    "model = Sequential()\n",
    "model.add(Conv2D(32, (3,3), padding='same', strides=(1,1), activation='relu', input_shape=(28,28,1)))\n",
    "print(model.output_shape)\n",
    "model.add(pooling.MaxPooling2D(pool_size=(2,2)))\n",
    "print(model.output_shape)\n",
    "model.add(Conv2D(64, (3,3), padding='same', strides=(1,1), activation='relu'))\n",
    "print(model.output_shape)\n",
    "model.add(pooling.MaxPooling2D(pool_size=(2,2)))\n",
    "print(model.output_shape)\n",
    "model.add(Flatten())\n",
    "model.add(Dense(10, activation='softmax')) # units=10, activation='softmax'\n",
    "model.compile(loss='categorical_crossentropy', optimizer='sgd', metrics=['accuracy'])\n",
    "# Training\n",
    "model.fit(train_images, train_labels, epochs=15, batch_size=100, verbose=1)\n",
    "# Testing\n",
    "_, accuracy = model.evaluate(test_images, test_labels)\n",
    "print('Accuracy: ', accuracy)\n",
    "model.summary()"
   ]
  },
  {
   "cell_type": "markdown",
   "metadata": {},
   "source": [
    "## MLP-MNIST(KERAS)"
   ]
  },
  {
   "cell_type": "code",
   "execution_count": null,
   "metadata": {},
   "outputs": [],
   "source": [
    "from keras.utils import np_utils\n",
    "from keras.datasets import mnist\n",
    "from keras.models import Sequential\n",
    "from keras.layers import Dense\n",
    "# MNIST data\n",
    "(train_images, train_labels), (test_images, test_labels) = mnist.load_data()\n",
    "print(train_images.shape, train_labels.shape, test_images.shape, test_labels.shape)\n",
    "train_images = train_images.reshape(train_images.shape[0], 784).astype('float32')/255.0\n",
    "test_images = test_images.reshape(test_images.shape[0], 784).astype('float32')/255.0\n",
    "train_labels = np_utils.to_categorical(train_labels) # One-Hot Encoding\n",
    "test_labels = np_utils.to_categorical(test_labels) # One-Hot Encoding\n",
    "# Model\n",
    "model = Sequential()\n",
    "model.add(Dense(256, activation='relu')) # units=256, activation='relu'\n",
    "model.add(Dense(256, activation='relu')) # units=256, activation='relu'\n",
    "model.add(Dense(256, activation='relu')) # units=256, activation='relu'\n",
    "model.add(Dense(10, activation='softmax')) # units=10, activation='softmax'\n",
    "model.compile(loss='categorical_crossentropy', optimizer='sgd', metrics=['accuracy'])\n",
    "# Training\n",
    "model.fit(train_images, train_labels, epochs=5, batch_size=32, verbose=1)\n",
    "# Testing\n",
    "_, accuracy = model.evaluate(test_images, test_labels)\n",
    "print('Accuracy: ', accuracy)\n",
    "model.summary()"
   ]
  },
  {
   "cell_type": "markdown",
   "metadata": {},
   "source": [
    "## RNN(KERAS)"
   ]
  },
  {
   "cell_type": "code",
   "execution_count": null,
   "metadata": {},
   "outputs": [],
   "source": [
    "from keras.models import Sequential\n",
    "from keras.layers import LSTM\n",
    "from sklearn.model_selection import train_test_split # pip install -U scikit-learn\n",
    "import numpy as np\n",
    "import matplotlib.pyplot as plt\n",
    "\n",
    "x_data = [[[(i+j)/100] for i in range (5)] for j in range(100)]\n",
    "y_data = [(i+5)/100 for i in range (100)]\n",
    "x_data = np.array(x_data, dtype=float)\n",
    "y_data = np.array(y_data, dtype=float)\n",
    "x_train, x_test, y_train, y_test = train_test_split(x_data, y_data, test_size=0.2)\n",
    "model=Sequential()\n",
    "model.add(LSTM(1, input_dim=1, input_length=5, return_sequences = False))\n",
    "model.compile(loss='mse', optimizer='adam')\n",
    "model.summary()\n",
    "history = model.fit(x_train, y_train, epochs=1000, verbose=0)\n",
    "y_predict = model.predict(x_test)\n",
    "plt.scatter(range(20), y_predict, c='r')\n",
    "plt.scatter(range(20), y_test, c='g')\n",
    "plt.show()\n",
    "plt.plot(history.history['loss'])\n",
    "plt.show()"
   ]
  },
  {
   "cell_type": "code",
   "execution_count": null,
   "metadata": {},
   "outputs": [],
   "source": []
  },
  {
   "cell_type": "code",
   "execution_count": null,
   "metadata": {},
   "outputs": [],
   "source": []
  },
  {
   "cell_type": "code",
   "execution_count": null,
   "metadata": {},
   "outputs": [],
   "source": []
  }
 ],
 "metadata": {
  "kernelspec": {
   "display_name": "Python 3",
   "language": "python",
   "name": "python3"
  },
  "language_info": {
   "codemirror_mode": {
    "name": "ipython",
    "version": 3
   },
   "file_extension": ".py",
   "mimetype": "text/x-python",
   "name": "python",
   "nbconvert_exporter": "python",
   "pygments_lexer": "ipython3",
   "version": "3.7.3"
  }
 },
 "nbformat": 4,
 "nbformat_minor": 4
}
