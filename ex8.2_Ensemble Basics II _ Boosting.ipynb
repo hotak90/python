{
 "cells": [
  {
   "cell_type": "markdown",
   "metadata": {
    "colab_type": "text",
    "id": "AVG5bLhFJe6a"
   },
   "source": [
    "# Ensemble Basics II : Boosting\n",
    "\n",
    "**실습 전 복습사항**\n",
    "1. adaboost를 **얼추** 안다.\n",
    "2. gradientboost를 **얼추** 안다.\n",
    "\n",
    "**실습 목표**\n",
    "\n",
    "1. adaboost를 적용해본다.\n",
    "2. gradientboost를 적용해본다.\n",
    "2. XGboost를 적용해본다.\n",
    "3. randomforest와 각각의 모든 알고리즘 성능을 비교해본다.\n",
    "\n",
    "\n",
    "**실습 데이터**\n",
    "* Fashion MNIST \n",
    "* MNIST (H.W maybe)\n",
    "\n",
    "\n",
    "Q. 앙상블의 영역에 온다는 것은 어디에 더 무게추가 기울어져 있을까?\n",
    "\n",
    "'설명과 해석'   &   '예측 정확도'\n",
    "\n",
    "---------------------------\n",
    "Rayleigh Kim <br>\n",
    "biz.rayleigh@gmail.com\n"
   ]
  },
  {
   "cell_type": "markdown",
   "metadata": {
    "colab_type": "text",
    "id": "qMvTyj9-K75v"
   },
   "source": [
    "## 1. Adaboost"
   ]
  },
  {
   "cell_type": "markdown",
   "metadata": {
    "colab_type": "text",
    "id": "4Auy25LPejb6"
   },
   "source": [
    "### 쉬운 데이터에서 일단 사용법을 익히자!\n",
    "\n",
    "[쉬운데이터](https://en.wikipedia.org/wiki/Iris_flower_data_set)로 간다!\n",
    "\n",
    "![sepal과 petal](https://www.math.umd.edu/~petersd/666/html/iris_with_labels.jpg)\n",
    "\n",
    "아이리스 데이터!"
   ]
  },
  {
   "cell_type": "code",
   "execution_count": null,
   "metadata": {
    "colab": {},
    "colab_type": "code",
    "id": "N5XAT6Q_eJsu"
   },
   "outputs": [],
   "source": [
    "import time\n",
    "from sklearn.datasets import load_iris\n",
    "\n",
    "# 아이리스 데이터셋\n",
    "iris = load_iris()"
   ]
  },
  {
   "cell_type": "code",
   "execution_count": null,
   "metadata": {
    "colab": {},
    "colab_type": "code",
    "id": "8SYeCuh0eRgG"
   },
   "outputs": [],
   "source": [
    "iris"
   ]
  },
  {
   "cell_type": "code",
   "execution_count": null,
   "metadata": {
    "colab": {},
    "colab_type": "code",
    "id": "MW-3AlpLeTgX"
   },
   "outputs": [],
   "source": [
    "# 사용할 것 불러오고!\n",
    "from sklearn.tree import DecisionTreeClassifier\n",
    "from sklearn.ensemble import AdaBoostClassifier\n",
    "from sklearn import metrics\n",
    "\n",
    "import matplotlib.pyplot as plt\n",
    "import numpy as np"
   ]
  },
  {
   "cell_type": "code",
   "execution_count": null,
   "metadata": {
    "colab": {},
    "colab_type": "code",
    "id": "FzBytfwCfefN"
   },
   "outputs": [],
   "source": [
    "# 사용할 모델 선언하고!\n",
    "\n",
    "dtclf_2 = DecisionTreeClassifier(max_depth=2)\n",
    "\n",
    "dtclf_n = DecisionTreeClassifier(max_depth=None)\n",
    "\n",
    "abclf_2 = AdaBoostClassifier( DecisionTreeClassifier(max_depth=2), # 사용할 분류 모델 여기에 두자.\n",
    "                          n_estimators= 100) # 총 몇번 만들래?\n",
    "\n",
    "abclf_n = AdaBoostClassifier( DecisionTreeClassifier(max_depth=None), # 사용할 분류 모델 여기에 두자.\n",
    "                          n_estimators= 100) # 총 몇번 만들래?"
   ]
  },
  {
   "cell_type": "code",
   "execution_count": null,
   "metadata": {
    "colab": {},
    "colab_type": "code",
    "id": "oDkm6zORfxkO"
   },
   "outputs": [],
   "source": [
    "# 학습을 시킨다!\n",
    "t1 = time.clock()\n",
    "\n",
    "dtclf_2.fit(iris.data, iris.target)\n",
    "\n",
    "t2 = time.clock()\n",
    "\n",
    "abclf_2.fit(iris.data, iris.target)\n",
    "\n",
    "t3 = time.clock()\n",
    "\n",
    "dtclf_n.fit(iris.data, iris.target)\n",
    "\n",
    "t4 = time.clock()\n",
    "\n",
    "abclf_n.fit(iris.data, iris.target)\n",
    "\n",
    "t5 = time.clock()\n",
    "\n",
    "print(\"depth 2 나무 학습소요시간 : \", t2-t1)\n",
    "print(\"depth 2 adaboost 학습소요시간 : \", t3-t2)\n",
    "print(\"depth nonlimited 나무 학습소요시간 : \", t4-t3)\n",
    "print(\"depth nonlimited adaboost 학습소요시간 : \", t5-t4)"
   ]
  },
  {
   "cell_type": "code",
   "execution_count": null,
   "metadata": {
    "colab": {},
    "colab_type": "code",
    "id": "x6kPxC0Cvgm8"
   },
   "outputs": [],
   "source": [
    "# depth=2 adaboost안에 나무는 몇그루?\n",
    "\n",
    "print(\"총 {}그루\".format(len(abclf_2.estimators_)))\n",
    "print(abclf_2.estimators_)"
   ]
  },
  {
   "cell_type": "code",
   "execution_count": null,
   "metadata": {
    "colab": {},
    "colab_type": "code",
    "id": "DQ28jK0hwBNs"
   },
   "outputs": [],
   "source": [
    "# depth=None adaboost안에 나무는 몇그루?\n",
    "\n",
    "print(\"총 {}그루\".format(len(abclf_n.estimators_)))\n",
    "print(abclf_n.estimators_)"
   ]
  },
  {
   "cell_type": "code",
   "execution_count": null,
   "metadata": {
    "colab": {},
    "colab_type": "code",
    "id": "RYrQYRv5wc8u"
   },
   "outputs": [],
   "source": [
    "## Bonus\n",
    "\n",
    "errors = []\n",
    "\n",
    "for predicted in abclf_2.staged_predict(iris.data) :\n",
    "    errors.append( 1. - metrics.accuracy_score(predicted, iris.target))\n",
    "    \n",
    "plt.plot(range(1, len(abclf_2)+1),\n",
    "        errors, c = 'black',\n",
    "        linestyle = 'dashed')\n",
    "plt.ylabel('Error')\n",
    "plt.xlabel('the Number of Trees')\n",
    "plt.show()"
   ]
  },
  {
   "cell_type": "code",
   "execution_count": null,
   "metadata": {
    "colab": {},
    "colab_type": "code",
    "id": "vLRMiIWof4eG"
   },
   "outputs": [],
   "source": [
    "# 시각화를 위하여..\n",
    "from sklearn.tree import export_graphviz\n",
    "\n",
    "export_graphviz(abclf_2.estimators_[0], out_file = 'first_tree_adaboost.dot', feature_names = iris.feature_names,\n",
    "               class_names = iris.target_names, rounded = True, proportion = False,\n",
    "               precision = 3, filled = True)\n",
    "\n",
    "export_graphviz(abclf_2.estimators_[-1], out_file = 'last_tree_adaboost.dot', feature_names = iris.feature_names,\n",
    "               class_names = iris.target_names, rounded = True, proportion = False,\n",
    "               precision = 3, filled = True)"
   ]
  },
  {
   "cell_type": "code",
   "execution_count": null,
   "metadata": {
    "colab": {},
    "colab_type": "code",
    "id": "Pv-DehulkWS_"
   },
   "outputs": [],
   "source": [
    "!dot -Tpng first_tree_adaboost.dot -o first_tree_adaboost.png -Gdpi=600\n",
    "!dot -Tpng last_tree_adaboost.dot -o last_tree_adaboost.png -Gdpi=600"
   ]
  },
  {
   "cell_type": "code",
   "execution_count": null,
   "metadata": {
    "colab": {},
    "colab_type": "code",
    "id": "G9pIug8ckavk"
   },
   "outputs": [],
   "source": [
    "from IPython.display import Image\n",
    "print('adaboost 첫번째 나무')\n",
    "Image(filename = 'first_tree_adaboost.png', width = 700)"
   ]
  },
  {
   "cell_type": "code",
   "execution_count": null,
   "metadata": {
    "colab": {},
    "colab_type": "code",
    "id": "L1fbxKbwl-Ov"
   },
   "outputs": [],
   "source": [
    "from IPython.display import Image\n",
    "print('adaboost 마지막 나무')\n",
    "Image(filename = 'last_tree_adaboost.png', width = 700)"
   ]
  },
  {
   "cell_type": "code",
   "execution_count": null,
   "metadata": {
    "colab": {},
    "colab_type": "code",
    "id": "7ES5HFrUmgZq"
   },
   "outputs": [],
   "source": [
    "## Bonus\n",
    "\n",
    "fi = {}\n",
    "for i in range(len(iris.feature_names)) :\n",
    "    fi[iris.feature_names[i]] = abclf_2.feature_importances_[i]\n",
    "\n",
    "\n",
    "print(fi)\n",
    "\n",
    "features = iris['feature_names']\n",
    "importances = abclf_2.feature_importances_\n",
    "indices = np.argsort(importances)\n",
    "\n",
    "plt.title('Feature Importances')\n",
    "plt.barh(range(len(indices)), importances[indices], color='b', align='center')\n",
    "plt.yticks(range(len(indices)), [features[i] for i in indices])\n",
    "plt.xlabel('Relative Importance')\n",
    "plt.show()"
   ]
  },
  {
   "cell_type": "markdown",
   "metadata": {
    "colab_type": "text",
    "id": "QL_OFJ18kzky"
   },
   "source": [
    "### Now your turn!"
   ]
  },
  {
   "cell_type": "code",
   "execution_count": null,
   "metadata": {
    "colab": {},
    "colab_type": "code",
    "id": "QowZqyLxnNwJ"
   },
   "outputs": [],
   "source": [
    "import tensorflow as tf\n",
    "import random as rd\n",
    "import matplotlib.pyplot as plt\n",
    "\n",
    "(train_x, train_y), (test_x, test_y) = tf.keras.datasets.mnist.load_data()"
   ]
  },
  {
   "cell_type": "code",
   "execution_count": null,
   "metadata": {
    "colab": {},
    "colab_type": "code",
    "id": "1CjxxMlKnfZ3"
   },
   "outputs": [],
   "source": [
    "'''\n",
    "Ctrl+Enter를 이용하여\n",
    "반복 실행 해보자!\n",
    "'''\n",
    "\n",
    "id = rd.randrange(0,10000)\n",
    "\n",
    "print('id = {}'.format(id))\n",
    "print('다음 그림은 숫자 {} 입니다.'.format(test_y[id]))\n",
    "plt.imshow(test_x[id])\n",
    "plt.show()"
   ]
  },
  {
   "cell_type": "code",
   "execution_count": null,
   "metadata": {
    "colab": {},
    "colab_type": "code",
    "id": "5NAAhWn2ndex"
   },
   "outputs": [],
   "source": [
    "# reshape!\n",
    "train_x_flatten = train_x.reshape([train_x.shape[0],-1])\n",
    "test_x_flatten = test_x.reshape([test_x.shape[0],-1])\n",
    "\n",
    "print(train_x_flatten.shape, train_y.shape)"
   ]
  },
  {
   "cell_type": "markdown",
   "metadata": {
    "colab_type": "text",
    "id": "E4a-wgWenQVt"
   },
   "source": [
    "**Q1. Adaboost 분류기를 4개 만드시오.**\n",
    "\n",
    "* DecisionTreeClassifier를 사용할 것.\n",
    "    1. max_depth 3\n",
    "    2. max_depth 5\n",
    "    3. max_depth 7\n",
    "    4. max_depth None\n",
    "\n",
    "* n_estimators 는 300으로 통일"
   ]
  },
  {
   "cell_type": "code",
   "execution_count": null,
   "metadata": {
    "colab": {},
    "colab_type": "code",
    "id": "8MFNKL-bp4Sx"
   },
   "outputs": [],
   "source": [
    "## Your Code\n",
    "\n"
   ]
  },
  {
   "cell_type": "markdown",
   "metadata": {
    "colab_type": "text",
    "id": "O49k0wpOp6BS"
   },
   "source": [
    "**Q2. Adaboost 분류기를 각각 학습 시키시오.**\n",
    "1. 실행 시간도 각각 구하시오.\n",
    "2. train_x_flatten 과 train_y를 이용합니다."
   ]
  },
  {
   "cell_type": "code",
   "execution_count": null,
   "metadata": {
    "colab": {},
    "colab_type": "code",
    "id": "495d2IWYp4wh"
   },
   "outputs": [],
   "source": [
    "## Your Code\n",
    "\n"
   ]
  },
  {
   "cell_type": "markdown",
   "metadata": {
    "colab_type": "text",
    "id": "GjWP1h3Kqq3O"
   },
   "source": [
    "**Q3. export_graphviz를 이용하여 그래프를 두 개 저장합니다.**\n",
    "\n",
    "* max_depth 5 짜리를 사용하시오.\n",
    "* 분류기 이름이 abclf라면...\n",
    "    1. abclf.estimators_[0] 이 첫번째 나무 입니다.\n",
    "    2. abclf.estimators_[-1] 이 마지막 나무 입니다.\n",
    "\n",
    "* 다음의 코드를 수정하여 사용하세요.\n",
    "```\n",
    "export_graphviz( 여러분의나무, out_file = '파일명.dot', rounded = True, proportion = False,\n",
    "               precision = 3, filled = True)\n",
    "```\n",
    "* 두 모델 전부 저장하세요"
   ]
  },
  {
   "cell_type": "code",
   "execution_count": null,
   "metadata": {
    "colab": {},
    "colab_type": "code",
    "id": "7lyfUUt6qq97"
   },
   "outputs": [],
   "source": [
    "## Your Code\n"
   ]
  },
  {
   "cell_type": "markdown",
   "metadata": {
    "colab_type": "text",
    "id": "6IsWp8SEtOY7"
   },
   "source": [
    "**Q4. !dot 명령어를 사용하여 png 파일로 바꾸어봅시다!**\n",
    "\n",
    "둘 다 바꾸세요.\n",
    "\n",
    "!dot -Tpng 파일명.dot -o 파일명.png -Gdpi=600"
   ]
  },
  {
   "cell_type": "code",
   "execution_count": null,
   "metadata": {
    "colab": {},
    "colab_type": "code",
    "id": "X0Y5BNmOti6b"
   },
   "outputs": [],
   "source": [
    "## Your Code\n"
   ]
  },
  {
   "cell_type": "markdown",
   "metadata": {
    "colab_type": "text",
    "id": "1G33m8lttjWL"
   },
   "source": [
    "**Q5. 저장한 그래프파일을 불러오세요.**\n",
    "\n",
    "* 둘 다 각각 합니다.\n",
    "* 관찰하기 어렵다면 다운로드 받아서 관찰합니다.\n",
    "* Discussion :\n",
    "    1. 나무 마다 샘플사이즈는 어떤가요?\n",
    "    2. 그 샘플들은 원래 데이터랑 같은걸까요?"
   ]
  },
  {
   "cell_type": "code",
   "execution_count": null,
   "metadata": {
    "colab": {},
    "colab_type": "code",
    "id": "4DxGLTA_ofzp"
   },
   "outputs": [],
   "source": [
    "## Your Code\n"
   ]
  },
  {
   "cell_type": "code",
   "execution_count": null,
   "metadata": {
    "colab": {},
    "colab_type": "code",
    "id": "iiIYllsW0-Jv"
   },
   "outputs": [],
   "source": [
    "## Your Code\n"
   ]
  },
  {
   "cell_type": "markdown",
   "metadata": {
    "colab_type": "text",
    "id": "iZeqJTGBonhC"
   },
   "source": [
    "**Q6. 성능을 봅시다.**\n",
    "\n",
    "* 두 모델 전부 각각 시행합니다.\n",
    "* 아래의 코드를 완성시켜 시각화 하면 됩니다.\n",
    "\n",
    "```\n",
    "from sklearn import metrics\n",
    "\n",
    "predicted_y = 여러분의모델.predict(test_x_flatten)\n",
    "\n",
    "print(\"Classification report for classifier {} : \\n {}\\n\".format(여러분의모델, metrics.classification_report(test_y, predicted_y)))\n",
    "\n",
    "print(\"Classification accuracy : {}\".format(metrics.accuracy_score(test_y,predicted_y)))\n",
    "\n",
    "print(\"Confusion matrix : \\n{}\".format(metrics.confusion_matrix(test_y, predicted_y).transpose()))\n",
    "```\n",
    "* 성능에 대하여 고민해봅시다.\n",
    "* 참고\n",
    "    1. Precision : 2라고 예측한 것 중 정말 2인 비율\n",
    "    2. Recall : 정말 2 중에서 2라고 예측한 것의 비율\n",
    "    3. [Confusion Matrix](https://en.wikipedia.org/wiki/Confusion_matrix)\n"
   ]
  },
  {
   "cell_type": "code",
   "execution_count": null,
   "metadata": {
    "colab": {},
    "colab_type": "code",
    "id": "dpr5LZWZpMdG"
   },
   "outputs": [],
   "source": [
    "## Your Code\n",
    "\n"
   ]
  },
  {
   "cell_type": "markdown",
   "metadata": {
    "colab_type": "text",
    "id": "NsLrbmhb2KPN"
   },
   "source": [
    "## 2. Gradient Boost"
   ]
  },
  {
   "cell_type": "markdown",
   "metadata": {
    "colab_type": "text",
    "id": "avnfmkAC2KPO"
   },
   "source": [
    "### 쉬운 데이터에서 일단 사용법을 익히자!\n",
    "\n",
    "[쉬운데이터](https://en.wikipedia.org/wiki/Iris_flower_data_set)로 간다!\n",
    "\n",
    "![sepal과 petal](https://www.math.umd.edu/~petersd/666/html/iris_with_labels.jpg)\n",
    "\n",
    "아이리스 데이터!"
   ]
  },
  {
   "cell_type": "code",
   "execution_count": null,
   "metadata": {
    "colab": {},
    "colab_type": "code",
    "id": "RsRGFH4C2KPP"
   },
   "outputs": [],
   "source": [
    "import time\n",
    "from sklearn.datasets import load_iris\n",
    "\n",
    "# 아이리스 데이터셋\n",
    "iris = load_iris()"
   ]
  },
  {
   "cell_type": "code",
   "execution_count": null,
   "metadata": {
    "colab": {},
    "colab_type": "code",
    "id": "NdA1n6-M2KPR"
   },
   "outputs": [],
   "source": [
    "iris"
   ]
  },
  {
   "cell_type": "code",
   "execution_count": null,
   "metadata": {
    "colab": {},
    "colab_type": "code",
    "id": "AvQlTeyA2KPV"
   },
   "outputs": [],
   "source": [
    "# 사용할 것 불러오고!\n",
    "from sklearn.tree import DecisionTreeClassifier\n",
    "from sklearn.ensemble import GradientBoostingClassifier\n",
    "from sklearn import metrics\n",
    "\n",
    "import matplotlib.pyplot as plt\n",
    "import numpy as np"
   ]
  },
  {
   "cell_type": "code",
   "execution_count": null,
   "metadata": {
    "colab": {},
    "colab_type": "code",
    "id": "MS9F3iAf2KPZ"
   },
   "outputs": [],
   "source": [
    "# 사용할 모델 선언하고!\n",
    "\n",
    "dtclf_2 = DecisionTreeClassifier(max_depth=2)\n",
    "\n",
    "dtclf_n = DecisionTreeClassifier(max_depth=None)\n",
    "\n",
    "gbclf_2 = GradientBoostingClassifier( n_estimators = 100, # 나무 몇그루 쓸꺼야?\n",
    "                          subsample = 1.0, # 1.0 미만의 소수가 나오면 stochastic 해진다.\n",
    "                          max_depth = 2 ) # 나무의 깊이!\n",
    "\n",
    "gbclf_n = GradientBoostingClassifier( n_estimators = 100, # 나무 몇그루 쓸꺼야?\n",
    "                          subsample = 1.0, # 1.0 미만의 소수가 나오면 stochastic 해진다.\n",
    "                          max_depth = None ) # 나무의 깊이!\n"
   ]
  },
  {
   "cell_type": "code",
   "execution_count": null,
   "metadata": {
    "colab": {},
    "colab_type": "code",
    "id": "Ow0XGSzE2KPa"
   },
   "outputs": [],
   "source": [
    "# 학습을 시킨다!\n",
    "t1 = time.clock()\n",
    "\n",
    "dtclf_2.fit(iris.data, iris.target)\n",
    "\n",
    "t2 = time.clock()\n",
    "\n",
    "gbclf_2.fit(iris.data, iris.target)\n",
    "\n",
    "t3 = time.clock()\n",
    "\n",
    "dtclf_n.fit(iris.data, iris.target)\n",
    "\n",
    "t4 = time.clock()\n",
    "\n",
    "gbclf_n.fit(iris.data, iris.target)\n",
    "\n",
    "t5 = time.clock()\n",
    "\n",
    "print(\"depth 2 나무 학습소요시간 : \", t2-t1)\n",
    "print(\"depth 2 gradientboost 학습소요시간 : \", t3-t2)\n",
    "print(\"depth nonlimited 나무 학습소요시간 : \", t4-t3)\n",
    "print(\"depth nonlimited gradientboost 학습소요시간 : \", t5-t4)"
   ]
  },
  {
   "cell_type": "code",
   "execution_count": null,
   "metadata": {
    "colab": {},
    "colab_type": "code",
    "id": "kCUq_rDc2KPd"
   },
   "outputs": [],
   "source": [
    "# depth=2 gradientboost안에 나무는 몇그루?\n",
    "\n",
    "print(\"총 {}그루\".format(len(gbclf_2.estimators_)))\n",
    "print(gbclf_2.estimators_)"
   ]
  },
  {
   "cell_type": "code",
   "execution_count": null,
   "metadata": {
    "colab": {},
    "colab_type": "code",
    "id": "633inu2O2KPf"
   },
   "outputs": [],
   "source": [
    "# depth=None gradientboost안에 나무는 몇그루?\n",
    "\n",
    "print(\"총 {}그루\".format(len(gbclf_n.estimators_)))\n",
    "print(gbclf_n.estimators_)"
   ]
  },
  {
   "cell_type": "code",
   "execution_count": null,
   "metadata": {
    "colab": {},
    "colab_type": "code",
    "id": "-z2Ey0Nk2KPk"
   },
   "outputs": [],
   "source": [
    "## Bonus\n",
    "\n",
    "errors = []\n",
    "\n",
    "for predicted in gbclf_2.staged_predict(iris.data) :\n",
    "    errors.append( 1. - metrics.accuracy_score(predicted, iris.target))\n",
    "    \n",
    "plt.plot(range(1, len(abclf_2)+1),\n",
    "        errors, c = 'black',\n",
    "        linestyle = 'dashed')\n",
    "plt.ylabel('Error')\n",
    "plt.xlabel('the Number of Trees')\n",
    "plt.show()"
   ]
  },
  {
   "cell_type": "code",
   "execution_count": null,
   "metadata": {
    "colab": {},
    "colab_type": "code",
    "id": "v32p02wY8pgN"
   },
   "outputs": [],
   "source": [
    "gbclf_2.estimators_[-1]"
   ]
  },
  {
   "cell_type": "code",
   "execution_count": null,
   "metadata": {
    "colab": {},
    "colab_type": "code",
    "id": "ZfvWxyOV2KPq"
   },
   "outputs": [],
   "source": [
    "# 시각화를 위하여..\n",
    "from sklearn.tree import export_graphviz\n",
    "\n",
    "export_graphviz(dtclf_2, out_file = 'dt2.dot', feature_names = iris.feature_names,\n",
    "               class_names = iris.target_names, rounded = True, proportion = False,\n",
    "               precision = 3, filled = True)\n",
    "\n",
    "\n",
    "export_graphviz(gbclf_2.estimators_[0][0], out_file = 'first_tree_gboost1.dot', feature_names = iris.feature_names,\n",
    "               class_names = iris.target_names, rounded = True, proportion = False,\n",
    "               precision = 3, filled = True)\n",
    "\n",
    "export_graphviz(gbclf_2.estimators_[0][-1], out_file = 'last_tree_gboost1.dot', feature_names = iris.feature_names,\n",
    "               class_names = iris.target_names, rounded = True, proportion = False,\n",
    "               precision = 3, filled = True)"
   ]
  },
  {
   "cell_type": "code",
   "execution_count": null,
   "metadata": {
    "colab": {},
    "colab_type": "code",
    "id": "0-hW1pQ82KPt"
   },
   "outputs": [],
   "source": [
    "!dot -Tpng dt2.dot -o dt2.png -Gdpi=600\n",
    "!dot -Tpng first_tree_gboost1.dot -o first_tree_gboost1.png -Gdpi=600\n",
    "!dot -Tpng last_tree_gboost1.dot -o last_tree_gboost1.png -Gdpi=600"
   ]
  },
  {
   "cell_type": "code",
   "execution_count": null,
   "metadata": {
    "colab": {},
    "colab_type": "code",
    "id": "MDc3kWvL9J_Z"
   },
   "outputs": [],
   "source": [
    "from IPython.display import Image\n",
    "print('그냥 나무')\n",
    "Image(filename = 'dt2.png', width = 700)"
   ]
  },
  {
   "cell_type": "code",
   "execution_count": null,
   "metadata": {
    "colab": {},
    "colab_type": "code",
    "id": "HYyfJvL82KPu"
   },
   "outputs": [],
   "source": [
    "from IPython.display import Image\n",
    "print('gradient boost 첫번째 그룹의 첫번째 나무')\n",
    "Image(filename = 'first_tree_gboost1.png', width = 700)"
   ]
  },
  {
   "cell_type": "code",
   "execution_count": null,
   "metadata": {
    "colab": {},
    "colab_type": "code",
    "id": "8GZplqHX2KPx"
   },
   "outputs": [],
   "source": [
    "from IPython.display import Image\n",
    "print('gradient boost 첫번째 그룹의 마지막 나무')\n",
    "Image(filename = 'last_tree_gboost1.png', width = 700)"
   ]
  },
  {
   "cell_type": "code",
   "execution_count": null,
   "metadata": {
    "colab": {},
    "colab_type": "code",
    "id": "ldKhI54W2KP3"
   },
   "outputs": [],
   "source": [
    "## Bonus\n",
    "\n",
    "fi = {}\n",
    "for i in range(len(iris.feature_names)) :\n",
    "    fi[iris.feature_names[i]] = gbclf_2.feature_importances_[i]\n",
    "\n",
    "\n",
    "print(fi)\n",
    "\n",
    "features = iris['feature_names']\n",
    "importances = gbclf_2.feature_importances_\n",
    "indices = np.argsort(importances)\n",
    "\n",
    "plt.title('Feature Importances')\n",
    "plt.barh(range(len(indices)), importances[indices], color='b', align='center')\n",
    "plt.yticks(range(len(indices)), [features[i] for i in indices])\n",
    "plt.xlabel('Relative Importance')\n",
    "plt.show()"
   ]
  },
  {
   "cell_type": "markdown",
   "metadata": {
    "colab_type": "text",
    "id": "8wN5dwqx2KP7"
   },
   "source": [
    "### Now your turn!"
   ]
  },
  {
   "cell_type": "code",
   "execution_count": null,
   "metadata": {
    "colab": {},
    "colab_type": "code",
    "id": "U2q-ZC6o2KP-"
   },
   "outputs": [],
   "source": [
    "import tensorflow as tf\n",
    "import random as rd\n",
    "import matplotlib.pyplot as plt\n",
    "\n",
    "(train_x, train_y), (test_x, test_y) = tf.keras.datasets.mnist.load_data()"
   ]
  },
  {
   "cell_type": "code",
   "execution_count": null,
   "metadata": {
    "colab": {},
    "colab_type": "code",
    "id": "bjYLW2Pd2KQA"
   },
   "outputs": [],
   "source": [
    "'''\n",
    "Ctrl+Enter를 이용하여\n",
    "반복 실행 해보자!\n",
    "'''\n",
    "\n",
    "id = rd.randrange(0,10000)\n",
    "\n",
    "print('id = {}'.format(id))\n",
    "print('다음 그림은 숫자 {} 입니다.'.format(test_y[id]))\n",
    "plt.imshow(test_x[id])\n",
    "plt.show()"
   ]
  },
  {
   "cell_type": "code",
   "execution_count": null,
   "metadata": {
    "colab": {},
    "colab_type": "code",
    "id": "px12yYHb2KQG"
   },
   "outputs": [],
   "source": [
    "# reshape!\n",
    "train_x_flatten = train_x.reshape([train_x.shape[0],-1])\n",
    "test_x_flatten = test_x.reshape([test_x.shape[0],-1])\n",
    "\n",
    "print(train_x_flatten.shape, train_y.shape)"
   ]
  },
  {
   "cell_type": "markdown",
   "metadata": {
    "colab_type": "text",
    "id": "sK8BytHJ2KQI"
   },
   "source": [
    "**Q1. Gradientboost 분류기를 4개 만드시오.**\n",
    "\n",
    "* DecisionTreeClassifier를 사용할 것.\n",
    "    1. max_depth 3\n",
    "    2. max_depth 5\n",
    "    3. max_depth 7\n",
    "    4. max_depth None\n",
    "\n",
    "* n_estimators 는 300으로 통일"
   ]
  },
  {
   "cell_type": "code",
   "execution_count": null,
   "metadata": {
    "colab": {},
    "colab_type": "code",
    "id": "Ib0E_r8A2KQI"
   },
   "outputs": [],
   "source": [
    "## Your Code\n",
    "\n"
   ]
  },
  {
   "cell_type": "markdown",
   "metadata": {
    "colab_type": "text",
    "id": "Ww48YXQP2KQK"
   },
   "source": [
    "**Q2. Adaboost 분류기를 각각 학습 시키시오.**\n",
    "1. 실행 시간도 각각 구하시오.\n",
    "2. train_x_flatten 과 train_y를 이용합니다."
   ]
  },
  {
   "cell_type": "code",
   "execution_count": null,
   "metadata": {
    "colab": {},
    "colab_type": "code",
    "id": "F2j2Yv_52KQL"
   },
   "outputs": [],
   "source": [
    "## Your Code\n",
    "\n"
   ]
  },
  {
   "cell_type": "markdown",
   "metadata": {
    "colab_type": "text",
    "id": "C8EACaYC2KQM"
   },
   "source": [
    "**Q3. export_graphviz를 이용하여 그래프를 두 개 저장합니다.**\n",
    "\n",
    "* max_depth 5 짜리를 사용하시오.\n",
    "* 분류기 이름이 gbclf라면...\n",
    "    1. gbclf.estimators_[-1][0] 이 마지막 그룹의 첫번째 나무 입니다.\n",
    "    2. gbclf.estimators_[-1][-1] 이 마지막 그룹의 마지막 나무 입니다.\n",
    "\n",
    "* 다음의 코드를 수정하여 사용하세요.\n",
    "```\n",
    "export_graphviz( 여러분의나무, out_file = '파일명.dot', rounded = True, proportion = False,\n",
    "               precision = 3, filled = True)\n",
    "```\n",
    "* 두 모델 전부 저장하세요"
   ]
  },
  {
   "cell_type": "code",
   "execution_count": null,
   "metadata": {
    "colab": {},
    "colab_type": "code",
    "id": "Xcb4pw1B2KQM"
   },
   "outputs": [],
   "source": [
    "## Your Code\n"
   ]
  },
  {
   "cell_type": "markdown",
   "metadata": {
    "colab_type": "text",
    "id": "QSk_VGg32KQO"
   },
   "source": [
    "**Q4. !dot 명령어를 사용하여 png 파일로 바꾸어봅시다!**\n",
    "\n",
    "둘 다 바꾸세요.\n",
    "\n",
    "!dot -Tpng 파일명.dot -o 파일명.png -Gdpi=600"
   ]
  },
  {
   "cell_type": "code",
   "execution_count": null,
   "metadata": {
    "colab": {},
    "colab_type": "code",
    "id": "g7dyoB6h2KQO"
   },
   "outputs": [],
   "source": [
    "## Your Code\n"
   ]
  },
  {
   "cell_type": "markdown",
   "metadata": {
    "colab_type": "text",
    "id": "H8go4VZp2KQP"
   },
   "source": [
    "**Q5. 저장한 그래프파일을 불러오세요.**\n",
    "\n",
    "* 둘 다 각각 합니다.\n",
    "* 관찰하기 어렵다면 다운로드 받아서 관찰합니다.\n",
    "* Discussion :\n",
    "    1. 나무 마다 샘플사이즈는 어떤가요?\n",
    "    2. 그 샘플들은 원래 데이터랑 같은걸까요?"
   ]
  },
  {
   "cell_type": "code",
   "execution_count": null,
   "metadata": {
    "colab": {},
    "colab_type": "code",
    "id": "cFDAO4Sk2KQQ"
   },
   "outputs": [],
   "source": [
    "## Your Code\n"
   ]
  },
  {
   "cell_type": "code",
   "execution_count": null,
   "metadata": {
    "colab": {},
    "colab_type": "code",
    "id": "fqjFSReA2KQR"
   },
   "outputs": [],
   "source": [
    "## Your Code\n"
   ]
  },
  {
   "cell_type": "markdown",
   "metadata": {
    "colab_type": "text",
    "id": "KL5IQUeK2KQS"
   },
   "source": [
    "**Q6. 성능을 봅시다.**\n",
    "\n",
    "* 두 모델 전부 각각 시행합니다.\n",
    "* 아래의 코드를 완성시켜 시각화 하면 됩니다.\n",
    "\n",
    "```\n",
    "from sklearn import metrics\n",
    "\n",
    "predicted_y = 여러분의모델.predict(test_x_flatten)\n",
    "\n",
    "print(\"Classification report for classifier {} : \\n {}\\n\".format(여러분의모델, metrics.classification_report(test_y, predicted_y)))\n",
    "\n",
    "print(\"Classification accuracy : {}\".format(metrics.accuracy_score(test_y,predicted_y)))\n",
    "\n",
    "print(\"Confusion matrix : \\n{}\".format(metrics.confusion_matrix(test_y, predicted_y).transpose()))\n",
    "```\n",
    "* 성능에 대하여 고민해봅시다.\n",
    "* 참고\n",
    "    1. Precision : 2라고 예측한 것 중 정말 2인 비율\n",
    "    2. Recall : 정말 2 중에서 2라고 예측한 것의 비율\n",
    "    3. [Confusion Matrix](https://en.wikipedia.org/wiki/Confusion_matrix)\n"
   ]
  },
  {
   "cell_type": "code",
   "execution_count": null,
   "metadata": {
    "colab": {},
    "colab_type": "code",
    "id": "pDGxGzWN2KQT"
   },
   "outputs": [],
   "source": [
    "## Your Code\n",
    "\n"
   ]
  },
  {
   "cell_type": "markdown",
   "metadata": {
    "colab_type": "text",
    "id": "lAzUSeTyvaCZ"
   },
   "source": [
    "## 3. XGboost\n"
   ]
  },
  {
   "cell_type": "markdown",
   "metadata": {
    "colab_type": "text",
    "id": "Fr-oEZHuy42R"
   },
   "source": [
    "### 쉬운 데이터에서 일단 사용법을 익히자!\n",
    "\n",
    "[쉬운데이터](https://en.wikipedia.org/wiki/Iris_flower_data_set)로 간다!\n",
    "\n",
    "![sepal과 petal](https://www.math.umd.edu/~petersd/666/html/iris_with_labels.jpg)\n",
    "\n",
    "아이리스 데이터!"
   ]
  },
  {
   "cell_type": "code",
   "execution_count": null,
   "metadata": {
    "colab": {},
    "colab_type": "code",
    "id": "JXreoravy42T"
   },
   "outputs": [],
   "source": [
    "import time\n",
    "from sklearn.datasets import load_iris\n",
    "\n",
    "# 아이리스 데이터셋\n",
    "iris = load_iris()"
   ]
  },
  {
   "cell_type": "code",
   "execution_count": null,
   "metadata": {
    "colab": {},
    "colab_type": "code",
    "id": "S3x6Nkhpy42c"
   },
   "outputs": [],
   "source": [
    "iris"
   ]
  },
  {
   "cell_type": "markdown",
   "metadata": {
    "colab_type": "text",
    "id": "NAEd8riX5kvO"
   },
   "source": [
    "**똑같다!**"
   ]
  },
  {
   "cell_type": "code",
   "execution_count": null,
   "metadata": {
    "colab": {},
    "colab_type": "code",
    "id": "P6N6lp9fy425"
   },
   "outputs": [],
   "source": [
    "# 사용할 것 불러오고!\n",
    "import xgboost as xgb\n",
    "\n",
    "import matplotlib.pyplot as plt\n",
    "import numpy as np"
   ]
  },
  {
   "cell_type": "code",
   "execution_count": null,
   "metadata": {
    "colab": {},
    "colab_type": "code",
    "id": "QNingXMoy42-"
   },
   "outputs": [],
   "source": [
    "# 사용할 모델 선언한다!\n",
    "\n",
    "xgb_2 = xgb.XGBClassifier(max_depth = 2, n_estimators = 200,\n",
    "                        learning_rate = 0.01)\n",
    "xgb_n = xgb.XGBClassifier(max_depth = 10, n_estimators = 200,\n",
    "                        learning_rate = 0.01)"
   ]
  },
  {
   "cell_type": "code",
   "execution_count": null,
   "metadata": {
    "colab": {},
    "colab_type": "code",
    "id": "VpMhvQcVy43H"
   },
   "outputs": [],
   "source": [
    "# 학습을 시킨다!\n",
    "t1 = time.clock()\n",
    "\n",
    "xgb_2.fit(iris.data, iris.target)\n",
    "\n",
    "t2 = time.clock()\n",
    "\n",
    "xgb_n.fit(iris.data, iris.target)\n",
    "\n",
    "t3 = time.clock()\n",
    "\n",
    "print(\"depth 2 XGBoost 학습소요시간 : \", t2-t1)\n",
    "print(\"depth nonlimited XGBoost 학습소요시간 : \", t3-t2)\n"
   ]
  },
  {
   "cell_type": "code",
   "execution_count": null,
   "metadata": {
    "colab": {},
    "colab_type": "code",
    "id": "IWVZTSQIy43W"
   },
   "outputs": [],
   "source": [
    "# Xgradientboost안에 나무는 몇그루?\n",
    "\n",
    "print(\"depth 2짜리,  총 {}그루\".format(xgb_2.n_estimators))\n",
    "print(\"depth 10짜리,  총 {}그루\".format(xgb_n.n_estimators))"
   ]
  },
  {
   "cell_type": "code",
   "execution_count": null,
   "metadata": {
    "colab": {},
    "colab_type": "code",
    "id": "WleLG6rSy44O"
   },
   "outputs": [],
   "source": [
    "## Bonus\n",
    "\n",
    "fi = {}\n",
    "for i in range(len(iris.feature_names)) :\n",
    "    fi[iris.feature_names[i]] = xgb_2.feature_importances_[i]\n",
    "\n",
    "\n",
    "print(fi)\n",
    "\n",
    "features = iris['feature_names']\n",
    "importances = xgb_2.feature_importances_\n",
    "indices = np.argsort(importances)\n",
    "\n",
    "plt.title('Feature Importances')\n",
    "plt.barh(range(len(indices)), importances[indices], color='b', align='center')\n",
    "plt.yticks(range(len(indices)), [features[i] for i in indices])\n",
    "plt.xlabel('Relative Importance')\n",
    "plt.show()"
   ]
  },
  {
   "cell_type": "code",
   "execution_count": null,
   "metadata": {
    "colab": {},
    "colab_type": "code",
    "id": "iZmg-F8F9wBm"
   },
   "outputs": [],
   "source": [
    "from sklearn import metrics\n",
    "\n",
    "predicted_y = xgb_2.predict(iris.data)\n",
    "\n",
    "print(\"Classification report for classifier {} : \\n {}\\n\".format(xgb_2, metrics.classification_report(iris.target, predicted_y)))\n",
    "\n",
    "print(\"Classification accuracy : {}\".format(metrics.accuracy_score(iris.target,predicted_y)))\n",
    "\n",
    "print(\"Confusion matrix : \\n{}\".format(metrics.confusion_matrix(iris.target, predicted_y).transpose()))"
   ]
  },
  {
   "cell_type": "markdown",
   "metadata": {
    "colab_type": "text",
    "id": "5PJycPkTy44T"
   },
   "source": [
    "### Now your turn!.. 이지만 따라하는 걸로!"
   ]
  },
  {
   "cell_type": "code",
   "execution_count": null,
   "metadata": {
    "colab": {},
    "colab_type": "code",
    "id": "JGBkA_Qr9L38"
   },
   "outputs": [],
   "source": [
    "# 처음엔 주석 해제 안하고 그냥 해보자!\n",
    "\n",
    "# !pip uninstall xgboost\n",
    "# !pip install xgboost\n"
   ]
  },
  {
   "cell_type": "code",
   "execution_count": null,
   "metadata": {
    "colab": {},
    "colab_type": "code",
    "id": "weB7Ygpv9MZY"
   },
   "outputs": [],
   "source": [
    "import xgboost as xgb"
   ]
  },
  {
   "cell_type": "code",
   "execution_count": null,
   "metadata": {
    "colab": {},
    "colab_type": "code",
    "id": "3HooOKnc9irq"
   },
   "outputs": [],
   "source": [
    "xgb.__version__  ## 0.82이상이어야 한다."
   ]
  },
  {
   "cell_type": "code",
   "execution_count": null,
   "metadata": {
    "colab": {},
    "colab_type": "code",
    "id": "rKYPhN7Fy44U"
   },
   "outputs": [],
   "source": [
    "import tensorflow as tf\n",
    "import xgboost as xgb\n",
    "import random as rd\n",
    "import matplotlib.pyplot as plt\n",
    "import time\n",
    "\n",
    "(train_x, train_y), (test_x, test_y) = tf.keras.datasets.mnist.load_data()"
   ]
  },
  {
   "cell_type": "code",
   "execution_count": null,
   "metadata": {
    "colab": {},
    "colab_type": "code",
    "id": "nX63vD-5y44b"
   },
   "outputs": [],
   "source": [
    "'''\n",
    "Ctrl+Enter를 이용하여\n",
    "반복 실행 해보자!\n",
    "'''\n",
    "\n",
    "id = rd.randrange(0,10000)\n",
    "\n",
    "print('id = {}'.format(id))\n",
    "print('다음 그림은 숫자 {} 입니다.'.format(test_y[id]))\n",
    "plt.imshow(test_x[id])\n",
    "plt.show()"
   ]
  },
  {
   "cell_type": "code",
   "execution_count": null,
   "metadata": {
    "colab": {},
    "colab_type": "code",
    "id": "wpxsLBOVy44i"
   },
   "outputs": [],
   "source": [
    "# reshape!\n",
    "train_x_flatten = train_x.reshape([train_x.shape[0],-1])\n",
    "test_x_flatten = test_x.reshape([test_x.shape[0],-1])\n",
    "\n",
    "print(train_x_flatten.shape, train_y.shape)"
   ]
  },
  {
   "cell_type": "code",
   "execution_count": null,
   "metadata": {
    "colab": {},
    "colab_type": "code",
    "id": "zO8wy4t570i3"
   },
   "outputs": [],
   "source": [
    "from sklearn.model_selection import train_test_split\n",
    "\n",
    "train_x_flatten, valid_x_flatten, train_y, valid_y = train_test_split(train_x_flatten, train_y, test_size = 0.1)"
   ]
  },
  {
   "cell_type": "code",
   "execution_count": null,
   "metadata": {
    "colab": {},
    "colab_type": "code",
    "id": "xQIPCYUuN94D"
   },
   "outputs": [],
   "source": [
    "## Parameters.\n",
    "\n",
    "param_list = [ ('max_depth', 6),\n",
    "             ('subsample', 0.8),\n",
    "             ('objective', 'multi:softmax'),\n",
    "             ('eval_metric', 'merror'), # Multiclass Classification Error\n",
    "             ('num_class', 10)]\n",
    "\n",
    "# param_list = [ ('max_depth', 6),\n",
    "#              ('subsample', 0.8),\n",
    "#              ('objective', 'multi:softmax'),\n",
    "#              ('eval_metric', 'merror'), # Multiclass Classification Error\n",
    "#              ('num_class', 10),\n",
    "#              ('gpu_id', 0),\n",
    "#              ('tree_method', 'gpu_hist')]\n",
    "\n",
    "\n",
    "# n_rounds = 600\n",
    "# early_stopping = 20\n",
    "\n",
    "n_rounds = 20\n",
    "early_stopping = 5\n",
    "\n",
    "\n",
    "## 속도를 위한 데이터 준비\n",
    "d_train = xgb.DMatrix(train_x_flatten, label = train_y)\n",
    "d_val = xgb.DMatrix(valid_x_flatten, label = valid_y)\n",
    "d_test = xgb.DMatrix(data = test_x_flatten)\n",
    "\n",
    "\n",
    "# 디스플레이할, 평가 재료들.\n",
    "eval_list = [(d_train, \"train\"),\n",
    "            (d_val, 'validation')]\n",
    "\n"
   ]
  },
  {
   "cell_type": "code",
   "execution_count": null,
   "metadata": {
    "colab": {},
    "colab_type": "code",
    "id": "xjtdA4_C73Pp"
   },
   "outputs": [],
   "source": [
    "print('training start')\n",
    "\n",
    "t1 = time.clock()\n",
    "\n",
    "xgb_d6 = xgb.train(param_list, d_train, n_rounds,\n",
    "                  evals = eval_list, early_stopping_rounds = early_stopping,\n",
    "                  verbose_eval = True)\n",
    "\n",
    "t2 = time.clock()\n",
    "\n",
    "print('Training Done, {:.5f} secs'.format(t2-t1))"
   ]
  },
  {
   "cell_type": "code",
   "execution_count": null,
   "metadata": {
    "colab": {},
    "colab_type": "code",
    "id": "JzTnRZdwTOEt"
   },
   "outputs": [],
   "source": [
    "## 예측값 만들기\n",
    "\n",
    "predicted_y = xgb_d6.predict(d_test)"
   ]
  },
  {
   "cell_type": "code",
   "execution_count": null,
   "metadata": {
    "colab": {},
    "colab_type": "code",
    "id": "mM6Xfy15TYt2"
   },
   "outputs": [],
   "source": [
    "## 성능 평가해보기\n",
    "\n",
    "from sklearn import metrics\n",
    "\n",
    "print(\"Classification report for classifier {} : \\n {}\\n\".format(xgb_d6, metrics.classification_report(test_y, predicted_y)))\n",
    "\n",
    "print(\"Classification accuracy : {}\".format(metrics.accuracy_score(test_y,predicted_y)))\n",
    "\n",
    "print(\"Confusion matrix : \\n{}\".format(metrics.confusion_matrix(test_y, predicted_y).transpose()))"
   ]
  },
  {
   "cell_type": "markdown",
   "metadata": {
    "colab_type": "text",
    "id": "pojqd1sxy44o"
   },
   "source": [
    "**Q1. XGradientboost 분류기를 1개 만드시오.**\n",
    "\n",
    "* 필요한 라이브러리들을 전부 불러오시오."
   ]
  },
  {
   "cell_type": "code",
   "execution_count": null,
   "metadata": {
    "colab": {},
    "colab_type": "code",
    "id": "wmgA_o24y44p"
   },
   "outputs": [],
   "source": [
    "## Your Code\n",
    "\n"
   ]
  },
  {
   "cell_type": "markdown",
   "metadata": {
    "colab_type": "text",
    "id": "LmVZOUUuy449"
   },
   "source": [
    "**Q2. 데이터를 reshape 하시오.**\n",
    "\n"
   ]
  },
  {
   "cell_type": "code",
   "execution_count": null,
   "metadata": {
    "colab": {},
    "colab_type": "code",
    "id": "TynGb4kFy45B"
   },
   "outputs": [],
   "source": [
    "## Your Code\n"
   ]
  },
  {
   "cell_type": "markdown",
   "metadata": {
    "colab_type": "text",
    "id": "Oe-SPFZCUlmQ"
   },
   "source": [
    "**Q3. Validation Set을 준비하시오.**"
   ]
  },
  {
   "cell_type": "code",
   "execution_count": null,
   "metadata": {
    "colab": {},
    "colab_type": "code",
    "id": "K2Q0xPKly45I"
   },
   "outputs": [],
   "source": [
    "## Your Code\n"
   ]
  },
  {
   "cell_type": "markdown",
   "metadata": {
    "colab_type": "text",
    "id": "BUDD2YbJUsfI"
   },
   "source": [
    "**Q4. XGBoost를 위한, parameter들, 사전데이터 준비등을 하시오.**\n",
    "\n",
    "* max_depth는 5를 권장합니다.\n",
    "* GPU 쓰세요.\n",
    "* n_rounds는 더 높여도 됩니다."
   ]
  },
  {
   "cell_type": "code",
   "execution_count": null,
   "metadata": {
    "colab": {},
    "colab_type": "code",
    "id": "yFnVHCoZU-z1"
   },
   "outputs": [],
   "source": [
    "## Your Code\n"
   ]
  },
  {
   "cell_type": "markdown",
   "metadata": {
    "colab_type": "text",
    "id": "R_smEutmVAO9"
   },
   "source": [
    "**Q5. 학습시키고, 시간을 측정하시오**"
   ]
  },
  {
   "cell_type": "code",
   "execution_count": null,
   "metadata": {
    "colab": {},
    "colab_type": "code",
    "id": "UWXk3KSpVSVb"
   },
   "outputs": [],
   "source": [
    "## Your Code\n"
   ]
  },
  {
   "cell_type": "markdown",
   "metadata": {
    "colab_type": "text",
    "id": "TWOQvOD6Vbfs"
   },
   "source": [
    "**Q6. 예측값을 만드시오.**"
   ]
  },
  {
   "cell_type": "code",
   "execution_count": null,
   "metadata": {
    "colab": {},
    "colab_type": "code",
    "id": "LNLNBvY6VeUI"
   },
   "outputs": [],
   "source": [
    "## Your Code\n"
   ]
  },
  {
   "cell_type": "markdown",
   "metadata": {
    "colab_type": "text",
    "id": "iueyfocSy45N"
   },
   "source": [
    "**Q7. 성능을 봅시다.**\n",
    "\n",
    "* 두 모델 전부 각각 시행합니다.\n",
    "* 아래의 코드를 완성시켜 시각화 하면 됩니다.\n",
    "\n",
    "```\n",
    "from sklearn import metrics\n",
    "\n",
    "predicted_y = 여러분의모델.predict(test_x_flatten)\n",
    "\n",
    "print(\"Classification report for classifier {} : \\n {}\\n\".format(여러분의모델, metrics.classification_report(test_y, predicted_y)))\n",
    "\n",
    "print(\"Classification accuracy : {}\".format(metrics.accuracy_score(test_y,predicted_y)))\n",
    "\n",
    "print(\"Confusion matrix : \\n{}\".format(metrics.confusion_matrix(test_y, predicted_y).transpose()))\n",
    "```\n",
    "* 성능에 대하여 고민해봅시다.\n",
    "* 참고\n",
    "    1. Precision : 2라고 예측한 것 중 정말 2인 비율\n",
    "    2. Recall : 정말 2 중에서 2라고 예측한 것의 비율\n",
    "    3. [Confusion Matrix](https://en.wikipedia.org/wiki/Confusion_matrix)\n"
   ]
  },
  {
   "cell_type": "code",
   "execution_count": null,
   "metadata": {
    "colab": {},
    "colab_type": "code",
    "id": "Dc4qq7D8y45O"
   },
   "outputs": [],
   "source": [
    "## Your Code\n",
    "\n"
   ]
  },
  {
   "cell_type": "markdown",
   "metadata": {
    "colab_type": "text",
    "id": "Xu3muYuV8quF"
   },
   "source": [
    "## 4.Random Forest, Adaboost, Gradientboost, XGboost on Fashion MNIST"
   ]
  },
  {
   "cell_type": "markdown",
   "metadata": {
    "colab_type": "text",
    "id": "r3lD2_3hxs6K"
   },
   "source": [
    "네 알고리즘 전부, fashion MNIST위에서 실습해보자..!\n",
    "\n",
    "1. Random Forest\n",
    "2. Adaboost\n",
    "3. Gradient Boost\n",
    "4. XGBoost"
   ]
  },
  {
   "cell_type": "markdown",
   "metadata": {
    "colab_type": "text",
    "id": "NuulcaL69wq4"
   },
   "source": [
    "Fashion Mnist 데이터 위에서 실습해보자.\n",
    "\n",
    "Labels:\n",
    "\n",
    "0 : T-shirt/top  \n",
    "1 : Trouser  \n",
    "2 : Pullover  \n",
    "3 : Dress  \n",
    "4 : Coat  \n",
    "5 : Sandal  \n",
    "6 : Shirt  \n",
    "7 : Sneaker  \n",
    "8 : Bag  \n",
    "9 : Ankle boot"
   ]
  },
  {
   "cell_type": "code",
   "execution_count": null,
   "metadata": {
    "colab": {},
    "colab_type": "code",
    "id": "NegeEDpC9cz-"
   },
   "outputs": [],
   "source": [
    "import tensorflow as tf\n",
    "import random as rd\n",
    "import matplotlib.pyplot as plt\n",
    "\n",
    "(train_x, train_y), (test_x, test_y) = tf.keras.datasets.fashion_mnist.load_data()\n",
    "\n",
    "labels = {0 : 'T-shirt/top',  \n",
    "1 : 'Trouser'  ,\n",
    "2 : 'Pullover'  ,\n",
    "3 : 'Dress' , \n",
    "4 : 'Coat'  ,\n",
    "5 : 'Sandal'  ,\n",
    "6 : 'Shirt'  ,\n",
    "7 : 'Sneaker'  ,\n",
    "8 : 'Bag'  ,\n",
    "9 : 'Ankle boot'}"
   ]
  },
  {
   "cell_type": "code",
   "execution_count": null,
   "metadata": {
    "colab": {},
    "colab_type": "code",
    "id": "6D7UEjow9hIB"
   },
   "outputs": [],
   "source": [
    "'''\n",
    "Ctrl+Enter를 이용하여\n",
    "반복 실행 해보자!\n",
    "'''\n",
    "\n",
    "id = rd.randrange(0,10000)\n",
    "\n",
    "print('id = {}'.format(id))\n",
    "print('다음 그림은 {} 입니다.'.format(labels[test_y[id]]))\n",
    "plt.imshow(test_x[id])\n",
    "plt.show()"
   ]
  },
  {
   "cell_type": "code",
   "execution_count": null,
   "metadata": {
    "colab": {},
    "colab_type": "code",
    "id": "PstsSKi6-pyd"
   },
   "outputs": [],
   "source": [
    "# reshape!\n",
    "train_x_flatten = train_x.reshape([train_x.shape[0],-1])\n",
    "test_x_flatten = test_x.reshape([test_x.shape[0],-1])\n",
    "\n",
    "print(train_x_flatten.shape, train_y.shape)"
   ]
  },
  {
   "cell_type": "markdown",
   "metadata": {
    "colab_type": "text",
    "id": "86OAyzfw-qsq"
   },
   "source": [
    "**알고리즘 네개를 전부 학습시켜보자!**\n",
    "\n",
    "1. RandomForest\n",
    "2. Adaboost\n",
    "3. Gradient Boost\n",
    "4. (+Optional)XGBoost\n"
   ]
  },
  {
   "cell_type": "code",
   "execution_count": null,
   "metadata": {
    "colab": {},
    "colab_type": "code",
    "id": "dF5_0rNk-xLh"
   },
   "outputs": [],
   "source": [
    "## Your Code"
   ]
  },
  {
   "cell_type": "code",
   "execution_count": null,
   "metadata": {
    "colab": {},
    "colab_type": "code",
    "id": "xh_tzljQ-zYd"
   },
   "outputs": [],
   "source": []
  },
  {
   "cell_type": "code",
   "execution_count": null,
   "metadata": {
    "colab": {},
    "colab_type": "code",
    "id": "ro-ax5LU-HCM"
   },
   "outputs": [],
   "source": []
  }
 ],
 "metadata": {
  "accelerator": "GPU",
  "colab": {
   "collapsed_sections": [
    "qMvTyj9-K75v",
    "NsLrbmhb2KPN",
    "lAzUSeTyvaCZ",
    "Xu3muYuV8quF"
   ],
   "name": "ex8.2_Ensemble Basics II _ Boosting.ipynb",
   "provenance": []
  },
  "kernelspec": {
   "display_name": "Python 3",
   "language": "python",
   "name": "python3"
  },
  "language_info": {
   "codemirror_mode": {
    "name": "ipython",
    "version": 3
   },
   "file_extension": ".py",
   "mimetype": "text/x-python",
   "name": "python",
   "nbconvert_exporter": "python",
   "pygments_lexer": "ipython3",
   "version": "3.7.3"
  }
 },
 "nbformat": 4,
 "nbformat_minor": 4
}
